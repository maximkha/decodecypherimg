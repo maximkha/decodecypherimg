{
 "metadata": {
  "language_info": {
   "codemirror_mode": {
    "name": "ipython",
    "version": 3
   },
   "file_extension": ".py",
   "mimetype": "text/x-python",
   "name": "python",
   "nbconvert_exporter": "python",
   "pygments_lexer": "ipython3",
   "version": "3.8.0"
  },
  "orig_nbformat": 4,
  "kernelspec": {
   "name": "python3",
   "display_name": "Python 3.8.0 64-bit"
  },
  "interpreter": {
   "hash": "c4a6cc1c2df5ddd62d6925b2a7bdee9abacf912eab37272999970e810b9642fd"
  }
 },
 "nbformat": 4,
 "nbformat_minor": 2,
 "cells": [
  {
   "cell_type": "code",
   "execution_count": 1167,
   "metadata": {},
   "outputs": [],
   "source": [
    "from PIL import Image, ImageDraw\n",
    "import numpy as np"
   ]
  },
  {
   "cell_type": "code",
   "execution_count": 1168,
   "metadata": {},
   "outputs": [],
   "source": [
    "def readdot(img, xof):\n",
    "    left1 = (img.getpixel((65 + xof, 100))[1] > 200,)\n",
    "    left2 = (img.getpixel((65 + xof, 250))[1] > 200,)\n",
    "\n",
    "    right1 = (img.getpixel((210 + xof, 100))[1] > 200,)\n",
    "    right2 = (img.getpixel((210 + xof, 250))[1] > 200,)\n",
    "\n",
    "    middle1 = (img.getpixel((105 + xof, 60))[1] > 200,)\n",
    "    middle2 = (img.getpixel((105 + xof, 200))[1] > 200,)\n",
    "    middle3 = (img.getpixel((105 + xof, 330))[1] > 200,)\n",
    "\n",
    "    dot = img.getpixel((255 + xof, 335))[1] > 200\n",
    "    #print(left1 + left2 + right1 + right2 + middle1 + middle2 + middle3)\n",
    "\n",
    "    return hash(left1 + left2 + right1 + right2 + middle1 + middle2 + middle3), dot"
   ]
  },
  {
   "cell_type": "code",
   "execution_count": 1169,
   "metadata": {},
   "outputs": [],
   "source": [
    "def drawdot(x, y):\n",
    "    global img\n",
    "    r = 5//2\n",
    "    draw = ImageDraw.Draw(img)\n",
    "    draw.rectangle((x-r, y-r, x+r, y+r), fill=(255,0,0))"
   ]
  },
  {
   "cell_type": "code",
   "execution_count": 1170,
   "metadata": {},
   "outputs": [],
   "source": [
    "def gethashdots(img, verb=True):\n",
    "    xoffcoefs = [0, 1, 2.05, 3.05]\n",
    "    thashs = []\n",
    "    dots = []\n",
    "    for xoffcoef in xoffcoefs:\n",
    "        if verb: print(\"\")\n",
    "        if verb: print(f\"x coef {xoffcoef}\")\n",
    "        xoff = int(265*xoffcoef)\n",
    "        thash, hasdot = readdot(img, xoff)\n",
    "        thashs.append(thash)\n",
    "        dots.append(hasdot)\n",
    "        if verb: print(f\"char {thash}, is period {hasdot}\")\n",
    "    return thashs, dots"
   ]
  },
  {
   "cell_type": "code",
   "execution_count": 1171,
   "metadata": {},
   "outputs": [],
   "source": [
    "framens = list(range(4, 43))"
   ]
  },
  {
   "cell_type": "code",
   "execution_count": 1172,
   "metadata": {},
   "outputs": [
    {
     "output_type": "stream",
     "name": "stdout",
     "text": [
      "===\n",
      "parsing frame 04\n",
      "===\n",
      "\n",
      "x coef 0\n",
      "char -8789292385135583623, is period False\n",
      "\n",
      "x coef 1\n",
      "char -2447546959026375717, is period False\n",
      "\n",
      "x coef 2.05\n",
      "char 584368594903755664, is period False\n",
      "\n",
      "x coef 3.05\n",
      "char -6511095004521732972, is period False\n",
      "===\n",
      "parsing frame 05\n",
      "===\n",
      "\n",
      "x coef 0\n",
      "char -3035369802349865928, is period False\n",
      "\n",
      "x coef 1\n",
      "char 2509527663965315969, is period False\n",
      "\n",
      "x coef 2.05\n",
      "char -2447546959026375717, is period False\n",
      "\n",
      "x coef 3.05\n",
      "char -3097689048272806700, is period False\n",
      "===\n",
      "parsing frame 06\n",
      "===\n",
      "\n",
      "x coef 0\n",
      "char -1802109181629876847, is period False\n",
      "\n",
      "x coef 1\n",
      "char -1002675021296112819, is period False\n",
      "\n",
      "x coef 2.05\n",
      "char -2447546959026375717, is period False\n",
      "\n",
      "x coef 3.05\n",
      "char -4733258335474859282, is period False\n",
      "===\n",
      "parsing frame 07\n",
      "===\n",
      "\n",
      "x coef 0\n",
      "char -1802109181629876847, is period False\n",
      "\n",
      "x coef 1\n",
      "char -7340620987999072083, is period False\n",
      "\n",
      "x coef 2.05\n",
      "char -2447546959026375717, is period False\n",
      "\n",
      "x coef 3.05\n",
      "char 2509527663965315969, is period False\n",
      "===\n",
      "parsing frame 08\n",
      "===\n",
      "\n",
      "x coef 0\n",
      "char -988405675155176403, is period False\n",
      "\n",
      "x coef 1\n",
      "char -988405675155176403, is period False\n",
      "\n",
      "x coef 2.05\n",
      "char -9067876751967087666, is period False\n",
      "\n",
      "x coef 3.05\n",
      "char -8789292385135583623, is period False\n",
      "===\n",
      "parsing frame 09\n",
      "===\n",
      "\n",
      "x coef 0\n",
      "char -3035369802349865928, is period False\n",
      "\n",
      "x coef 1\n",
      "char -7024749559696779614, is period False\n",
      "\n",
      "x coef 2.05\n",
      "char -2447546959026375717, is period False\n",
      "\n",
      "x coef 3.05\n",
      "char -8452328348498731207, is period False\n",
      "===\n",
      "parsing frame 10\n",
      "===\n",
      "\n",
      "x coef 0\n",
      "char -988405675155176403, is period False\n",
      "\n",
      "x coef 1\n",
      "char -2447546959026375717, is period False\n",
      "\n",
      "x coef 2.05\n",
      "char 5120421374808883414, is period False\n",
      "\n",
      "x coef 3.05\n",
      "char 5504965734805885606, is period False\n",
      "===\n",
      "parsing frame 11\n",
      "===\n",
      "\n",
      "x coef 0\n",
      "char -4733258335474859282, is period False\n",
      "\n",
      "x coef 1\n",
      "char -988405675155176403, is period False\n",
      "\n",
      "x coef 2.05\n",
      "char -2447546959026375717, is period False\n",
      "\n",
      "x coef 3.05\n",
      "char 1805302475516400880, is period False\n",
      "===\n",
      "parsing frame 12\n",
      "===\n",
      "\n",
      "x coef 0\n",
      "char -6511095004521732972, is period False\n",
      "\n",
      "x coef 1\n",
      "char -8789292385135583623, is period False\n",
      "\n",
      "x coef 2.05\n",
      "char -9085615887866229741, is period False\n",
      "\n",
      "x coef 3.05\n",
      "char -988405675155176403, is period False\n",
      "===\n",
      "parsing frame 13\n",
      "===\n",
      "\n",
      "x coef 0\n",
      "char -3097689048272806700, is period False\n",
      "\n",
      "x coef 1\n",
      "char -1802109181629876847, is period False\n",
      "\n",
      "x coef 2.05\n",
      "char -1002675021296112819, is period False\n",
      "\n",
      "x coef 3.05\n",
      "char -2447546959026375717, is period False\n",
      "===\n",
      "parsing frame 14\n",
      "===\n",
      "\n",
      "x coef 0\n",
      "char -4733258335474859282, is period False\n",
      "\n",
      "x coef 1\n",
      "char -1802109181629876847, is period False\n",
      "\n",
      "x coef 2.05\n",
      "char -1002675021296112819, is period False\n",
      "\n",
      "x coef 3.05\n",
      "char -3035369802349865928, is period False\n",
      "===\n",
      "parsing frame 15\n",
      "===\n",
      "\n",
      "x coef 0\n",
      "char -4521535532109211676, is period False\n",
      "\n",
      "x coef 1\n",
      "char -2447546959026375717, is period False\n",
      "\n",
      "x coef 2.05\n",
      "char 1805302475516400880, is period False\n",
      "\n",
      "x coef 3.05\n",
      "char -6511095004521732972, is period False\n",
      "===\n",
      "parsing frame 16\n",
      "===\n",
      "\n",
      "x coef 0\n",
      "char 5504965734805885606, is period False\n",
      "\n",
      "x coef 1\n",
      "char 584368594903755664, is period False\n",
      "\n",
      "x coef 2.05\n",
      "char -2447546959026375717, is period False\n",
      "\n",
      "x coef 3.05\n",
      "char -3097689048272806700, is period False\n",
      "===\n",
      "parsing frame 17\n",
      "===\n",
      "\n",
      "x coef 0\n",
      "char -1802109181629876847, is period False\n",
      "\n",
      "x coef 1\n",
      "char -1002675021296112819, is period False\n",
      "\n",
      "x coef 2.05\n",
      "char -2447546959026375717, is period False\n",
      "\n",
      "x coef 3.05\n",
      "char -3035369802349865928, is period False\n",
      "===\n",
      "parsing frame 18\n",
      "===\n",
      "\n",
      "x coef 0\n",
      "char -988405675155176403, is period False\n",
      "\n",
      "x coef 1\n",
      "char -988405675155176403, is period False\n",
      "\n",
      "x coef 2.05\n",
      "char -4521535532109211676, is period False\n",
      "\n",
      "x coef 3.05\n",
      "char -988405675155176403, is period False\n",
      "===\n",
      "parsing frame 19\n",
      "===\n",
      "\n",
      "x coef 0\n",
      "char -4521535532109211676, is period False\n",
      "\n",
      "x coef 1\n",
      "char -2447546959026375717, is period False\n",
      "\n",
      "x coef 2.05\n",
      "char 584368594903755664, is period False\n",
      "\n",
      "x coef 3.05\n",
      "char -1802109181629876847, is period False\n",
      "===\n",
      "parsing frame 20\n",
      "===\n",
      "\n",
      "x coef 0\n",
      "char 5120421374808883414, is period False\n",
      "\n",
      "x coef 1\n",
      "char -1802109181629876847, is period False\n",
      "\n",
      "x coef 2.05\n",
      "char -9085615887866229741, is period False\n",
      "\n",
      "x coef 3.05\n",
      "char 9167144518376816344, is period False\n",
      "===\n",
      "parsing frame 21\n",
      "===\n",
      "\n",
      "x coef 0\n",
      "char -988405675155176403, is period False\n",
      "\n",
      "x coef 1\n",
      "char -2447546959026375717, is period False\n",
      "\n",
      "x coef 2.05\n",
      "char 584368594903755664, is period False\n",
      "\n",
      "x coef 3.05\n",
      "char -6511095004521732972, is period False\n",
      "===\n",
      "parsing frame 22\n",
      "===\n",
      "\n",
      "x coef 0\n",
      "char -8789292385135583623, is period False\n",
      "\n",
      "x coef 1\n",
      "char 5120421374808883414, is period True\n",
      "\n",
      "x coef 2.05\n",
      "char -2447546959026375717, is period False\n",
      "\n",
      "x coef 3.05\n",
      "char 584368594903755664, is period False\n",
      "===\n",
      "parsing frame 23\n",
      "===\n",
      "\n",
      "x coef 0\n",
      "char -6511095004521732972, is period False\n",
      "\n",
      "x coef 1\n",
      "char -988405675155176403, is period False\n",
      "\n",
      "x coef 2.05\n",
      "char -2447546959026375717, is period False\n",
      "\n",
      "x coef 3.05\n",
      "char 8847473630668275233, is period False\n",
      "===\n",
      "parsing frame 24\n",
      "===\n",
      "\n",
      "x coef 0\n",
      "char -1802109181629876847, is period False\n",
      "\n",
      "x coef 1\n",
      "char -4521535532109211676, is period False\n",
      "\n",
      "x coef 2.05\n",
      "char -988405675155176403, is period False\n",
      "\n",
      "x coef 3.05\n",
      "char -2447546959026375717, is period False\n",
      "===\n",
      "parsing frame 25\n",
      "===\n",
      "\n",
      "x coef 0\n",
      "char 584368594903755664, is period False\n",
      "\n",
      "x coef 1\n",
      "char -1802109181629876847, is period False\n",
      "\n",
      "x coef 2.05\n",
      "char -2447546959026375717, is period False\n",
      "\n",
      "x coef 3.05\n",
      "char 8847473630668275233, is period False\n",
      "===\n",
      "parsing frame 26\n",
      "===\n",
      "\n",
      "x coef 0\n",
      "char -988405675155176403, is period False\n",
      "\n",
      "x coef 1\n",
      "char -9085615887866229741, is period False\n",
      "\n",
      "x coef 2.05\n",
      "char -9085615887866229741, is period False\n",
      "\n",
      "x coef 3.05\n",
      "char -2447546959026375717, is period False\n",
      "===\n",
      "parsing frame 27\n",
      "===\n",
      "\n",
      "x coef 0\n",
      "char 7402601692938012335, is period False\n",
      "\n",
      "x coef 1\n",
      "char -9085615887866229741, is period False\n",
      "\n",
      "x coef 2.05\n",
      "char -1802109181629876847, is period False\n",
      "\n",
      "x coef 3.05\n",
      "char 8847473630668275233, is period False\n",
      "===\n",
      "parsing frame 28\n",
      "===\n",
      "\n",
      "x coef 0\n",
      "char 2509527663965315969, is period False\n",
      "\n",
      "x coef 1\n",
      "char -2447546959026375717, is period False\n",
      "\n",
      "x coef 2.05\n",
      "char -7040176001997385025, is period False\n",
      "\n",
      "x coef 3.05\n",
      "char -7040176001997385025, is period False\n",
      "===\n",
      "parsing frame 29\n",
      "===\n",
      "\n",
      "x coef 0\n",
      "char -8789292385135583623, is period False\n",
      "\n",
      "x coef 1\n",
      "char 5120421374808883414, is period False\n",
      "\n",
      "x coef 2.05\n",
      "char -2447546959026375717, is period False\n",
      "\n",
      "x coef 3.05\n",
      "char -2447546959026375717, is period False\n",
      "===\n",
      "parsing frame 30\n",
      "===\n",
      "\n",
      "x coef 0\n",
      "char 1082447874310338168, is period False\n",
      "\n",
      "x coef 1\n",
      "char 2354102220707213224, is period False\n",
      "\n",
      "x coef 2.05\n",
      "char 734060217467233423, is period False\n",
      "\n",
      "x coef 3.05\n",
      "char -7040176001997385025, is period False\n",
      "===\n",
      "parsing frame 31\n",
      "===\n",
      "\n",
      "x coef 0\n",
      "char 709482857969816951, is period False\n",
      "\n",
      "x coef 1\n",
      "char -3697668106134995398, is period False\n",
      "\n",
      "x coef 2.05\n",
      "char 734060217467233423, is period False\n",
      "\n",
      "x coef 3.05\n",
      "char 734060217467233423, is period False\n",
      "===\n",
      "parsing frame 32\n",
      "===\n",
      "\n",
      "x coef 0\n",
      "char -2741664984704633621, is period False\n",
      "\n",
      "x coef 1\n",
      "char 1082447874310338168, is period True\n",
      "\n",
      "x coef 2.05\n",
      "char -2447546959026375717, is period False\n",
      "\n",
      "x coef 3.05\n",
      "char 8847473630668275233, is period False\n",
      "===\n",
      "parsing frame 33\n",
      "===\n",
      "\n",
      "x coef 0\n",
      "char 5504965734805885606, is period False\n",
      "\n",
      "x coef 1\n",
      "char -9085615887866229741, is period False\n",
      "\n",
      "x coef 2.05\n",
      "char -9085615887866229741, is period False\n",
      "\n",
      "x coef 3.05\n",
      "char -2447546959026375717, is period False\n",
      "===\n",
      "parsing frame 34\n",
      "===\n",
      "\n",
      "x coef 0\n",
      "char -3097689048272806700, is period False\n",
      "\n",
      "x coef 1\n",
      "char -6511095004521732972, is period False\n",
      "\n",
      "x coef 2.05\n",
      "char -988405675155176403, is period False\n",
      "\n",
      "x coef 3.05\n",
      "char -2447546959026375717, is period False\n",
      "===\n",
      "parsing frame 35\n",
      "===\n",
      "\n",
      "x coef 0\n",
      "char -9085615887866229741, is period False\n",
      "\n",
      "x coef 1\n",
      "char -988405675155176403, is period False\n",
      "\n",
      "x coef 2.05\n",
      "char -4733258335474859282, is period False\n",
      "\n",
      "x coef 3.05\n",
      "char 584368594903755664, is period False\n",
      "===\n",
      "parsing frame 36\n",
      "===\n",
      "\n",
      "x coef 0\n",
      "char -8452328348498731207, is period False\n",
      "\n",
      "x coef 1\n",
      "char -1802109181629876847, is period False\n",
      "\n",
      "x coef 2.05\n",
      "char 5120421374808883414, is period False\n",
      "\n",
      "x coef 3.05\n",
      "char 584368594903755664, is period False\n",
      "===\n",
      "parsing frame 37\n",
      "===\n",
      "\n",
      "x coef 0\n",
      "char -9067876751967087666, is period False\n",
      "\n",
      "x coef 1\n",
      "char -6511095004521732972, is period False\n",
      "\n",
      "x coef 2.05\n",
      "char -1802109181629876847, is period False\n",
      "\n",
      "x coef 3.05\n",
      "char -3035369802349865928, is period False\n",
      "===\n",
      "parsing frame 38\n",
      "===\n",
      "\n",
      "x coef 0\n",
      "char -988405675155176403, is period False\n",
      "\n",
      "x coef 1\n",
      "char -2447546959026375717, is period False\n",
      "\n",
      "x coef 2.05\n",
      "char -8789292385135583623, is period False\n",
      "\n",
      "x coef 3.05\n",
      "char -3035369802349865928, is period False\n",
      "===\n",
      "parsing frame 39\n",
      "===\n",
      "\n",
      "x coef 0\n",
      "char 584368594903755664, is period False\n",
      "\n",
      "x coef 1\n",
      "char -6511095004521732972, is period False\n",
      "\n",
      "x coef 2.05\n",
      "char -988405675155176403, is period False\n",
      "\n",
      "x coef 3.05\n",
      "char -2447546959026375717, is period False\n",
      "===\n",
      "parsing frame 40\n",
      "===\n",
      "\n",
      "x coef 0\n",
      "char 9167144518376816344, is period False\n",
      "\n",
      "x coef 1\n",
      "char -8789292385135583623, is period False\n",
      "\n",
      "x coef 2.05\n",
      "char 5120421374808883414, is period False\n",
      "\n",
      "x coef 3.05\n",
      "char -8789292385135583623, is period False\n",
      "===\n",
      "parsing frame 41\n",
      "===\n",
      "\n",
      "x coef 0\n",
      "char 584368594903755664, is period False\n",
      "\n",
      "x coef 1\n",
      "char -1802109181629876847, is period False\n",
      "\n",
      "x coef 2.05\n",
      "char -7340620987999072083, is period False\n",
      "\n",
      "x coef 3.05\n",
      "char -2447546959026375717, is period False\n",
      "===\n",
      "parsing frame 42\n",
      "===\n",
      "\n",
      "x coef 0\n",
      "char -7340620987999072083, is period False\n",
      "\n",
      "x coef 1\n",
      "char -1802109181629876847, is period False\n",
      "\n",
      "x coef 2.05\n",
      "char -1802109181629876847, is period False\n",
      "\n",
      "x coef 3.05\n",
      "char -8452328348498731207, is period True\n"
     ]
    }
   ],
   "source": [
    "mixedcharhashes = []\n",
    "\n",
    "for framen in framens:\n",
    "    framename = str(framen)\n",
    "    if framen < 10:\n",
    "        framename = \"0\" + framename\n",
    "    print(\"===\")\n",
    "    print(f\"parsing frame {framename}\")\n",
    "    print(\"===\")\n",
    "    img = Image.open(f\"strangecode/frame_{framename}_delay-10s.gif\").convert(\"RGB\")\n",
    "    \n",
    "    singlecharhashes, singledots = gethashdots(img)\n",
    "\n",
    "    for singlecharhash, singledot in zip(singlecharhashes, singledots):\n",
    "        mixedcharhashes.append(singlecharhash)\n",
    "        if singledot:\n",
    "            mixedcharhashes.append(\".\")\n",
    "# img"
   ]
  },
  {
   "cell_type": "code",
   "execution_count": 1173,
   "metadata": {},
   "outputs": [],
   "source": [
    "# img = Image.open(f\"strangecode/frame_03_delay-10s.gif\").convert(\"RGB\")\n",
    "# gethashdots(img, False)"
   ]
  },
  {
   "cell_type": "code",
   "execution_count": 1174,
   "metadata": {},
   "outputs": [],
   "source": [
    "SPACE = -2447546959026375717"
   ]
  },
  {
   "cell_type": "code",
   "execution_count": 1175,
   "metadata": {},
   "outputs": [],
   "source": [
    "mixedcharhashes = [' ' if x==SPACE else x for x in mixedcharhashes]"
   ]
  },
  {
   "cell_type": "code",
   "execution_count": 1176,
   "metadata": {},
   "outputs": [],
   "source": [
    "from collections import Counter"
   ]
  },
  {
   "cell_type": "code",
   "execution_count": 1177,
   "metadata": {},
   "outputs": [
    {
     "output_type": "execute_result",
     "data": {
      "text/plain": [
       "[-8789292385135583623,\n",
       " ' ',\n",
       " 584368594903755664,\n",
       " -6511095004521732972,\n",
       " -3035369802349865928,\n",
       " 2509527663965315969,\n",
       " ' ',\n",
       " -3097689048272806700,\n",
       " -1802109181629876847,\n",
       " -1002675021296112819,\n",
       " ' ',\n",
       " -4733258335474859282,\n",
       " -1802109181629876847,\n",
       " -7340620987999072083,\n",
       " ' ',\n",
       " 2509527663965315969,\n",
       " -988405675155176403,\n",
       " -988405675155176403,\n",
       " -9067876751967087666,\n",
       " -8789292385135583623,\n",
       " -3035369802349865928,\n",
       " -7024749559696779614,\n",
       " ' ',\n",
       " -8452328348498731207,\n",
       " -988405675155176403,\n",
       " ' ',\n",
       " 5120421374808883414,\n",
       " 5504965734805885606,\n",
       " -4733258335474859282,\n",
       " -988405675155176403,\n",
       " ' ',\n",
       " 1805302475516400880,\n",
       " -6511095004521732972,\n",
       " -8789292385135583623,\n",
       " -9085615887866229741,\n",
       " -988405675155176403,\n",
       " -3097689048272806700,\n",
       " -1802109181629876847,\n",
       " -1002675021296112819,\n",
       " ' ',\n",
       " -4733258335474859282,\n",
       " -1802109181629876847,\n",
       " -1002675021296112819,\n",
       " -3035369802349865928,\n",
       " -4521535532109211676,\n",
       " ' ',\n",
       " 1805302475516400880,\n",
       " -6511095004521732972,\n",
       " 5504965734805885606,\n",
       " 584368594903755664,\n",
       " ' ',\n",
       " -3097689048272806700,\n",
       " -1802109181629876847,\n",
       " -1002675021296112819,\n",
       " ' ',\n",
       " -3035369802349865928,\n",
       " -988405675155176403,\n",
       " -988405675155176403,\n",
       " -4521535532109211676,\n",
       " -988405675155176403,\n",
       " -4521535532109211676,\n",
       " ' ',\n",
       " 584368594903755664,\n",
       " -1802109181629876847,\n",
       " 5120421374808883414,\n",
       " -1802109181629876847,\n",
       " -9085615887866229741,\n",
       " 9167144518376816344,\n",
       " -988405675155176403,\n",
       " ' ',\n",
       " 584368594903755664,\n",
       " -6511095004521732972,\n",
       " -8789292385135583623,\n",
       " 5120421374808883414,\n",
       " '.',\n",
       " ' ',\n",
       " 584368594903755664,\n",
       " -6511095004521732972,\n",
       " -988405675155176403,\n",
       " ' ',\n",
       " 8847473630668275233,\n",
       " -1802109181629876847,\n",
       " -4521535532109211676,\n",
       " -988405675155176403,\n",
       " ' ',\n",
       " 584368594903755664,\n",
       " -1802109181629876847,\n",
       " ' ',\n",
       " 8847473630668275233,\n",
       " -988405675155176403,\n",
       " -9085615887866229741,\n",
       " -9085615887866229741,\n",
       " ' ',\n",
       " 7402601692938012335,\n",
       " -9085615887866229741,\n",
       " -1802109181629876847,\n",
       " 8847473630668275233,\n",
       " 2509527663965315969,\n",
       " ' ',\n",
       " -7040176001997385025,\n",
       " -7040176001997385025,\n",
       " -8789292385135583623,\n",
       " 5120421374808883414,\n",
       " ' ',\n",
       " ' ',\n",
       " 1082447874310338168,\n",
       " 2354102220707213224,\n",
       " 734060217467233423,\n",
       " -7040176001997385025,\n",
       " 709482857969816951,\n",
       " -3697668106134995398,\n",
       " 734060217467233423,\n",
       " 734060217467233423,\n",
       " -2741664984704633621,\n",
       " 1082447874310338168,\n",
       " '.',\n",
       " ' ',\n",
       " 8847473630668275233,\n",
       " 5504965734805885606,\n",
       " -9085615887866229741,\n",
       " -9085615887866229741,\n",
       " ' ',\n",
       " -3097689048272806700,\n",
       " -6511095004521732972,\n",
       " -988405675155176403,\n",
       " ' ',\n",
       " -9085615887866229741,\n",
       " -988405675155176403,\n",
       " -4733258335474859282,\n",
       " 584368594903755664,\n",
       " -8452328348498731207,\n",
       " -1802109181629876847,\n",
       " 5120421374808883414,\n",
       " 584368594903755664,\n",
       " -9067876751967087666,\n",
       " -6511095004521732972,\n",
       " -1802109181629876847,\n",
       " -3035369802349865928,\n",
       " -988405675155176403,\n",
       " ' ',\n",
       " -8789292385135583623,\n",
       " -3035369802349865928,\n",
       " 584368594903755664,\n",
       " -6511095004521732972,\n",
       " -988405675155176403,\n",
       " ' ',\n",
       " 9167144518376816344,\n",
       " -8789292385135583623,\n",
       " 5120421374808883414,\n",
       " -8789292385135583623,\n",
       " 584368594903755664,\n",
       " -1802109181629876847,\n",
       " -7340620987999072083,\n",
       " ' ',\n",
       " -7340620987999072083,\n",
       " -1802109181629876847,\n",
       " -1802109181629876847,\n",
       " -8452328348498731207,\n",
       " '.']"
      ]
     },
     "metadata": {},
     "execution_count": 1177
    }
   ],
   "source": [
    "mixedcharhashes"
   ]
  },
  {
   "cell_type": "code",
   "execution_count": 1178,
   "metadata": {},
   "outputs": [],
   "source": [
    "all_letters = Counter(mixedcharhashes)"
   ]
  },
  {
   "cell_type": "code",
   "execution_count": 1179,
   "metadata": {},
   "outputs": [
    {
     "output_type": "execute_result",
     "data": {
      "text/plain": [
       "Counter({-8789292385135583623: 8,\n",
       "         ' ': 27,\n",
       "         584368594903755664: 10,\n",
       "         -6511095004521732972: 8,\n",
       "         -3035369802349865928: 6,\n",
       "         2509527663965315969: 3,\n",
       "         -3097689048272806700: 4,\n",
       "         -1802109181629876847: 15,\n",
       "         -1002675021296112819: 4,\n",
       "         -4733258335474859282: 4,\n",
       "         -7340620987999072083: 3,\n",
       "         -988405675155176403: 16,\n",
       "         -9067876751967087666: 2,\n",
       "         -7024749559696779614: 1,\n",
       "         -8452328348498731207: 3,\n",
       "         5120421374808883414: 6,\n",
       "         5504965734805885606: 3,\n",
       "         1805302475516400880: 2,\n",
       "         -9085615887866229741: 8,\n",
       "         -4521535532109211676: 4,\n",
       "         9167144518376816344: 2,\n",
       "         '.': 3,\n",
       "         8847473630668275233: 4,\n",
       "         7402601692938012335: 1,\n",
       "         -7040176001997385025: 3,\n",
       "         1082447874310338168: 2,\n",
       "         2354102220707213224: 1,\n",
       "         734060217467233423: 3,\n",
       "         709482857969816951: 1,\n",
       "         -3697668106134995398: 1,\n",
       "         -2741664984704633621: 1})"
      ]
     },
     "metadata": {},
     "execution_count": 1179
    }
   ],
   "source": [
    "all_letters"
   ]
  },
  {
   "cell_type": "code",
   "execution_count": 1180,
   "metadata": {},
   "outputs": [],
   "source": [
    "ignore = [' ', '.']\n",
    "for word in ignore:\n",
    "    if word in all_letters:\n",
    "        del all_letters[word]"
   ]
  },
  {
   "cell_type": "code",
   "execution_count": 1181,
   "metadata": {},
   "outputs": [
    {
     "output_type": "execute_result",
     "data": {
      "text/plain": [
       "Counter({-8789292385135583623: 8,\n",
       "         584368594903755664: 10,\n",
       "         -6511095004521732972: 8,\n",
       "         -3035369802349865928: 6,\n",
       "         2509527663965315969: 3,\n",
       "         -3097689048272806700: 4,\n",
       "         -1802109181629876847: 15,\n",
       "         -1002675021296112819: 4,\n",
       "         -4733258335474859282: 4,\n",
       "         -7340620987999072083: 3,\n",
       "         -988405675155176403: 16,\n",
       "         -9067876751967087666: 2,\n",
       "         -7024749559696779614: 1,\n",
       "         -8452328348498731207: 3,\n",
       "         5120421374808883414: 6,\n",
       "         5504965734805885606: 3,\n",
       "         1805302475516400880: 2,\n",
       "         -9085615887866229741: 8,\n",
       "         -4521535532109211676: 4,\n",
       "         9167144518376816344: 2,\n",
       "         8847473630668275233: 4,\n",
       "         7402601692938012335: 1,\n",
       "         -7040176001997385025: 3,\n",
       "         1082447874310338168: 2,\n",
       "         2354102220707213224: 1,\n",
       "         734060217467233423: 3,\n",
       "         709482857969816951: 1,\n",
       "         -3697668106134995398: 1,\n",
       "         -2741664984704633621: 1})"
      ]
     },
     "metadata": {},
     "execution_count": 1181
    }
   ],
   "source": [
    "all_letters"
   ]
  },
  {
   "cell_type": "code",
   "execution_count": 1182,
   "metadata": {},
   "outputs": [],
   "source": [
    "# totalcount = sum(all_letters.values())\n",
    "# {k:(v/totalcount) for k, v in all_letters.items()}"
   ]
  },
  {
   "cell_type": "code",
   "execution_count": 1183,
   "metadata": {},
   "outputs": [],
   "source": [
    "# https://en.wikipedia.org/wiki/Letter_frequency\n",
    "mosttoleast = \"EARIOTNSLCUDPMHGBFYWKVXZJQ\".lower() # \"etaoinshrdlcumwfgypbvkjxqz\""
   ]
  },
  {
   "cell_type": "code",
   "execution_count": 1184,
   "metadata": {},
   "outputs": [
    {
     "output_type": "execute_result",
     "data": {
      "text/plain": [
       "'eariotnslcudpmhgbfywkvxzjq'"
      ]
     },
     "metadata": {},
     "execution_count": 1184
    }
   ],
   "source": [
    "mosttoleast"
   ]
  },
  {
   "cell_type": "code",
   "execution_count": 1185,
   "metadata": {},
   "outputs": [
    {
     "output_type": "execute_result",
     "data": {
      "text/plain": [
       "[(-988405675155176403, 16),\n",
       " (-1802109181629876847, 15),\n",
       " (584368594903755664, 10),\n",
       " (-8789292385135583623, 8),\n",
       " (-6511095004521732972, 8),\n",
       " (-9085615887866229741, 8),\n",
       " (-3035369802349865928, 6),\n",
       " (5120421374808883414, 6),\n",
       " (-3097689048272806700, 4),\n",
       " (-1002675021296112819, 4),\n",
       " (-4733258335474859282, 4),\n",
       " (-4521535532109211676, 4),\n",
       " (8847473630668275233, 4),\n",
       " (2509527663965315969, 3),\n",
       " (-7340620987999072083, 3),\n",
       " (-8452328348498731207, 3),\n",
       " (5504965734805885606, 3),\n",
       " (-7040176001997385025, 3),\n",
       " (734060217467233423, 3),\n",
       " (-9067876751967087666, 2),\n",
       " (1805302475516400880, 2),\n",
       " (9167144518376816344, 2),\n",
       " (1082447874310338168, 2),\n",
       " (-7024749559696779614, 1),\n",
       " (7402601692938012335, 1),\n",
       " (2354102220707213224, 1),\n",
       " (709482857969816951, 1),\n",
       " (-3697668106134995398, 1),\n",
       " (-2741664984704633621, 1)]"
      ]
     },
     "metadata": {},
     "execution_count": 1185
    }
   ],
   "source": [
    "freq = all_letters.most_common(n=1000)\n",
    "freq"
   ]
  },
  {
   "cell_type": "code",
   "execution_count": 1186,
   "metadata": {},
   "outputs": [],
   "source": [
    "from collections import defaultdict"
   ]
  },
  {
   "cell_type": "code",
   "execution_count": 1187,
   "metadata": {},
   "outputs": [],
   "source": [
    "guesses = {' ': ' ', '.':'.'} #map hash to possible letter"
   ]
  },
  {
   "cell_type": "code",
   "execution_count": 1188,
   "metadata": {},
   "outputs": [],
   "source": [
    "def tryguess(arr, guessmap):\n",
    "    defaultedguesses = defaultdict(lambda: \"?\")\n",
    "    for k, v in guessmap.items():\n",
    "        defaultedguesses[k] = v\n",
    "    return list(map(lambda x: defaultedguesses.__getitem__(x), arr))"
   ]
  },
  {
   "cell_type": "code",
   "execution_count": 1189,
   "metadata": {},
   "outputs": [
    {
     "output_type": "execute_result",
     "data": {
      "text/plain": [
       "29"
      ]
     },
     "metadata": {},
     "execution_count": 1189
    }
   ],
   "source": [
    "len(freq)"
   ]
  },
  {
   "cell_type": "code",
   "execution_count": 1190,
   "metadata": {},
   "outputs": [],
   "source": [
    "for i in range(len(freq)):\n",
    "    if i == 26: break\n",
    "    k, v = freq[i]\n",
    "    guesses[k] = mosttoleast[i]"
   ]
  },
  {
   "cell_type": "code",
   "execution_count": 1191,
   "metadata": {},
   "outputs": [
    {
     "output_type": "execute_result",
     "data": {
      "text/plain": [
       "'i ronm lac uah meewinz ge sbue koitelac uacnd kobr lac needed rasatve rois. roe pade ra pett jtapm ffis  xqyf??yy?x. pbtt loe teurgasrwoane inroe visirah haag.'"
      ]
     },
     "metadata": {},
     "execution_count": 1191
    }
   ],
   "source": [
    "''.join(tryguess(mixedcharhashes, guesses))"
   ]
  },
  {
   "cell_type": "code",
   "execution_count": 1192,
   "metadata": {},
   "outputs": [],
   "source": [
    "# -988405675155176403 or -1802109181629876847 is \"e\""
   ]
  },
  {
   "cell_type": "code",
   "execution_count": 1193,
   "metadata": {},
   "outputs": [],
   "source": [
    "# mixedcharhashes = ['e' if x==-988405675155176403 else x for x in mixedcharhashes]"
   ]
  },
  {
   "cell_type": "code",
   "execution_count": 1194,
   "metadata": {},
   "outputs": [],
   "source": [
    "# ['e' if x==-1802109181629876847 else x for x in mixedcharhashes]"
   ]
  },
  {
   "cell_type": "code",
   "execution_count": 1195,
   "metadata": {},
   "outputs": [],
   "source": [
    "from itertools import groupby"
   ]
  },
  {
   "cell_type": "code",
   "execution_count": 1196,
   "metadata": {},
   "outputs": [],
   "source": [
    "def splitlist(condition, tlist):\n",
    "    splits = []\n",
    "    bucket = []\n",
    "    for i in range(len(tlist)):\n",
    "        el = tlist[i]\n",
    "        if condition(el):\n",
    "            splits.append(bucket.copy())\n",
    "            bucket = []\n",
    "        else:\n",
    "            bucket.append(el)\n",
    "    return splits"
   ]
  },
  {
   "cell_type": "code",
   "execution_count": 1197,
   "metadata": {},
   "outputs": [],
   "source": [
    "words = splitlist(lambda x: x in [' ', '.'], mixedcharhashes)"
   ]
  },
  {
   "cell_type": "code",
   "execution_count": 1198,
   "metadata": {},
   "outputs": [
    {
     "output_type": "execute_result",
     "data": {
      "text/plain": [
       "[[-8789292385135583623],\n",
       " [584368594903755664,\n",
       "  -6511095004521732972,\n",
       "  -3035369802349865928,\n",
       "  2509527663965315969],\n",
       " [-3097689048272806700, -1802109181629876847, -1002675021296112819],\n",
       " [-4733258335474859282, -1802109181629876847, -7340620987999072083],\n",
       " [2509527663965315969,\n",
       "  -988405675155176403,\n",
       "  -988405675155176403,\n",
       "  -9067876751967087666,\n",
       "  -8789292385135583623,\n",
       "  -3035369802349865928,\n",
       "  -7024749559696779614],\n",
       " [-8452328348498731207, -988405675155176403],\n",
       " [5120421374808883414,\n",
       "  5504965734805885606,\n",
       "  -4733258335474859282,\n",
       "  -988405675155176403],\n",
       " [1805302475516400880,\n",
       "  -6511095004521732972,\n",
       "  -8789292385135583623,\n",
       "  -9085615887866229741,\n",
       "  -988405675155176403,\n",
       "  -3097689048272806700,\n",
       "  -1802109181629876847,\n",
       "  -1002675021296112819],\n",
       " [-4733258335474859282,\n",
       "  -1802109181629876847,\n",
       "  -1002675021296112819,\n",
       "  -3035369802349865928,\n",
       "  -4521535532109211676],\n",
       " [1805302475516400880,\n",
       "  -6511095004521732972,\n",
       "  5504965734805885606,\n",
       "  584368594903755664],\n",
       " [-3097689048272806700, -1802109181629876847, -1002675021296112819],\n",
       " [-3035369802349865928,\n",
       "  -988405675155176403,\n",
       "  -988405675155176403,\n",
       "  -4521535532109211676,\n",
       "  -988405675155176403,\n",
       "  -4521535532109211676],\n",
       " [584368594903755664,\n",
       "  -1802109181629876847,\n",
       "  5120421374808883414,\n",
       "  -1802109181629876847,\n",
       "  -9085615887866229741,\n",
       "  9167144518376816344,\n",
       "  -988405675155176403],\n",
       " [584368594903755664,\n",
       "  -6511095004521732972,\n",
       "  -8789292385135583623,\n",
       "  5120421374808883414],\n",
       " [],\n",
       " [584368594903755664, -6511095004521732972, -988405675155176403],\n",
       " [8847473630668275233,\n",
       "  -1802109181629876847,\n",
       "  -4521535532109211676,\n",
       "  -988405675155176403],\n",
       " [584368594903755664, -1802109181629876847],\n",
       " [8847473630668275233,\n",
       "  -988405675155176403,\n",
       "  -9085615887866229741,\n",
       "  -9085615887866229741],\n",
       " [7402601692938012335,\n",
       "  -9085615887866229741,\n",
       "  -1802109181629876847,\n",
       "  8847473630668275233,\n",
       "  2509527663965315969],\n",
       " [-7040176001997385025,\n",
       "  -7040176001997385025,\n",
       "  -8789292385135583623,\n",
       "  5120421374808883414],\n",
       " [],\n",
       " [1082447874310338168,\n",
       "  2354102220707213224,\n",
       "  734060217467233423,\n",
       "  -7040176001997385025,\n",
       "  709482857969816951,\n",
       "  -3697668106134995398,\n",
       "  734060217467233423,\n",
       "  734060217467233423,\n",
       "  -2741664984704633621,\n",
       "  1082447874310338168],\n",
       " [],\n",
       " [8847473630668275233,\n",
       "  5504965734805885606,\n",
       "  -9085615887866229741,\n",
       "  -9085615887866229741],\n",
       " [-3097689048272806700, -6511095004521732972, -988405675155176403],\n",
       " [-9085615887866229741,\n",
       "  -988405675155176403,\n",
       "  -4733258335474859282,\n",
       "  584368594903755664,\n",
       "  -8452328348498731207,\n",
       "  -1802109181629876847,\n",
       "  5120421374808883414,\n",
       "  584368594903755664,\n",
       "  -9067876751967087666,\n",
       "  -6511095004521732972,\n",
       "  -1802109181629876847,\n",
       "  -3035369802349865928,\n",
       "  -988405675155176403],\n",
       " [-8789292385135583623,\n",
       "  -3035369802349865928,\n",
       "  584368594903755664,\n",
       "  -6511095004521732972,\n",
       "  -988405675155176403],\n",
       " [9167144518376816344,\n",
       "  -8789292385135583623,\n",
       "  5120421374808883414,\n",
       "  -8789292385135583623,\n",
       "  584368594903755664,\n",
       "  -1802109181629876847,\n",
       "  -7340620987999072083],\n",
       " [-7340620987999072083,\n",
       "  -1802109181629876847,\n",
       "  -1802109181629876847,\n",
       "  -8452328348498731207]]"
      ]
     },
     "metadata": {},
     "execution_count": 1198
    }
   ],
   "source": [
    "words"
   ]
  },
  {
   "cell_type": "code",
   "execution_count": 1199,
   "metadata": {},
   "outputs": [],
   "source": [
    "wordhashes = list(map(lambda x: hash(tuple(x)), words))"
   ]
  },
  {
   "cell_type": "code",
   "execution_count": 1200,
   "metadata": {},
   "outputs": [
    {
     "output_type": "execute_result",
     "data": {
      "text/plain": [
       "[(5740354900026072187, 3),\n",
       " (-6428512188309285824, 2),\n",
       " (-4040250719567322630, 1),\n",
       " (599585536861263991, 1),\n",
       " (2898813096142144200, 1),\n",
       " (2094969528288546744, 1),\n",
       " (2760460069310368130, 1),\n",
       " (-6519556373643933534, 1),\n",
       " (3302235600315484820, 1),\n",
       " (-787052410521795300, 1),\n",
       " (-445193054987352940, 1),\n",
       " (7929941543335165023, 1),\n",
       " (-5094826911815961020, 1),\n",
       " (3177468642374206108, 1),\n",
       " (8969754959766030164, 1),\n",
       " (-714431195882953678, 1),\n",
       " (-4205877119936975853, 1),\n",
       " (6660000809849325143, 1),\n",
       " (-8828031911454295151, 1),\n",
       " (-9154318309470955677, 1),\n",
       " (-6484417344672913855, 1),\n",
       " (4885886171061329493, 1),\n",
       " (8210045606727572014, 1),\n",
       " (-4891941243327727770, 1),\n",
       " (-7311534285320290296, 1),\n",
       " (-1578788872597888997, 1),\n",
       " (-2253137620961758418, 1)]"
      ]
     },
     "metadata": {},
     "execution_count": 1200
    }
   ],
   "source": [
    "Counter(wordhashes).most_common(1000)"
   ]
  },
  {
   "cell_type": "code",
   "execution_count": 1201,
   "metadata": {},
   "outputs": [],
   "source": [
    "hashtochars = {}\n",
    "for wordhash, tchars in zip(wordhashes, words):\n",
    "    hashtochars[wordhash] = tchars"
   ]
  },
  {
   "cell_type": "code",
   "execution_count": 1202,
   "metadata": {},
   "outputs": [
    {
     "output_type": "execute_result",
     "data": {
      "text/plain": [
       "[-3097689048272806700, -1802109181629876847, -1002675021296112819]"
      ]
     },
     "metadata": {},
     "execution_count": 1202
    }
   ],
   "source": [
    "hashtochars[-6428512188309285824]"
   ]
  },
  {
   "cell_type": "code",
   "execution_count": 1203,
   "metadata": {},
   "outputs": [],
   "source": [
    "guesses[-3097689048272806700] = \"t\"\n",
    "guesses[-1802109181629876847] = \"h\"\n",
    "guesses[-1002675021296112819] = \"e\""
   ]
  },
  {
   "cell_type": "code",
   "execution_count": 1204,
   "metadata": {},
   "outputs": [
    {
     "output_type": "execute_result",
     "data": {
      "text/plain": [
       "'i ronm the uhh meewinz ge sbue koitethe uhend kobr the needed rhshtve rois. roe phde rh pett jthpm ffis  xqyf??yy?x. pbtt toe teurghsrwohne inroe visirhh hhhg.'"
      ]
     },
     "metadata": {},
     "execution_count": 1204
    }
   ],
   "source": [
    "''.join(tryguess(mixedcharhashes, guesses))"
   ]
  },
  {
   "cell_type": "code",
   "execution_count": 1205,
   "metadata": {},
   "outputs": [],
   "source": [
    "# -6428512188309285824 is probably 'the'\n",
    "# "
   ]
  },
  {
   "cell_type": "code",
   "execution_count": 1206,
   "metadata": {},
   "outputs": [
    {
     "output_type": "stream",
     "name": "stdout",
     "text": [
      "[(2509527663965315969, 1), (-988405675155176403, 2), (-9067876751967087666, 1), (-8789292385135583623, 1), (-3035369802349865928, 1), (-7024749559696779614, 1)]\n[(-3035369802349865928, 1), (-988405675155176403, 2), (-4521535532109211676, 1), (-988405675155176403, 1), (-4521535532109211676, 1)]\n[(8847473630668275233, 1), (-988405675155176403, 1), (-9085615887866229741, 2)]\n[(-7040176001997385025, 2), (-8789292385135583623, 1), (5120421374808883414, 1)]\n[(1082447874310338168, 1), (2354102220707213224, 1), (734060217467233423, 1), (-7040176001997385025, 1), (709482857969816951, 1), (-3697668106134995398, 1), (734060217467233423, 2), (-2741664984704633621, 1), (1082447874310338168, 1)]\n[(8847473630668275233, 1), (5504965734805885606, 1), (-9085615887866229741, 2)]\n[(-7340620987999072083, 1), (-1802109181629876847, 2), (-8452328348498731207, 1)]\n"
     ]
    }
   ],
   "source": [
    "for wordl in words:\n",
    "    L = wordl\n",
    "    grouped_L = [(k, sum(1 for i in g)) for k,g in groupby(L)]\n",
    "    grouped_L\n",
    "    if any(map(lambda x: x[1] > 1, grouped_L)):\n",
    "        print(grouped_L)"
   ]
  },
  {
   "cell_type": "code",
   "execution_count": 1207,
   "metadata": {},
   "outputs": [],
   "source": [
    "from english_words import english_words_lower_alpha_set"
   ]
  },
  {
   "cell_type": "code",
   "execution_count": 1208,
   "metadata": {},
   "outputs": [],
   "source": [
    "# list(filter(lambda x: len(x) == 2, english_words_lower_alpha_set))"
   ]
  },
  {
   "cell_type": "code",
   "execution_count": 1209,
   "metadata": {},
   "outputs": [
    {
     "output_type": "execute_result",
     "data": {
      "text/plain": [
       "'i ronm the uhh meewinz ge sbue koitethe uhend kobr the needed rhshtve rois. roe phde rh pett jthpm ffis  xqyf??yy?x. pbtt toe teurghsrwohne inroe visirhh hhhg.'"
      ]
     },
     "metadata": {},
     "execution_count": 1209
    }
   ],
   "source": [
    "''.join(tryguess(mixedcharhashes, guesses))"
   ]
  },
  {
   "cell_type": "code",
   "execution_count": 1210,
   "metadata": {},
   "outputs": [
    {
     "output_type": "execute_result",
     "data": {
      "text/plain": [
       "['ye', 'ne', 'se', 'me', 'he', 'be', 'fe', 'de', 'we', 'ge', 're']"
      ]
     },
     "metadata": {},
     "execution_count": 1210
    }
   ],
   "source": [
    "list(filter(lambda x: (len(x)==2) and (x[1]==\"e\"), english_words_lower_alpha_set))"
   ]
  },
  {
   "cell_type": "code",
   "execution_count": 1211,
   "metadata": {},
   "outputs": [],
   "source": [
    "# https://en.wikipedia.org/wiki/Most_common_words_in_English\n",
    "gkey = words[5][0] #\"g\"\n",
    "bkey = words[6][1] #\"b\"\n",
    "\n",
    "guesses[gkey], guesses[bkey] = guesses[bkey], guesses[gkey]"
   ]
  },
  {
   "cell_type": "code",
   "execution_count": 1212,
   "metadata": {},
   "outputs": [],
   "source": [
    "#guesses[-908561588786622974] = \"e\""
   ]
  },
  {
   "cell_type": "code",
   "execution_count": 1213,
   "metadata": {},
   "outputs": [
    {
     "output_type": "execute_result",
     "data": {
      "text/plain": [
       "'i ronm the uhh meewinz be sgue koitethe uhend kogr the needed rhshtve rois. roe phde rh pett jthpm ffis  xqyf??yy?x. pgtt toe teurbhsrwohne inroe visirhh hhhb.'"
      ]
     },
     "metadata": {},
     "execution_count": 1213
    }
   ],
   "source": [
    "''.join(tryguess(mixedcharhashes, guesses))"
   ]
  },
  {
   "cell_type": "code",
   "execution_count": 1214,
   "metadata": {},
   "outputs": [],
   "source": [
    "#be sure"
   ]
  },
  {
   "cell_type": "code",
   "execution_count": 1215,
   "metadata": {},
   "outputs": [
    {
     "output_type": "execute_result",
     "data": {
      "text/plain": [
       "[-7340620987999072083,\n",
       " -1802109181629876847,\n",
       " -1802109181629876847,\n",
       " -8452328348498731207]"
      ]
     },
     "metadata": {},
     "execution_count": 1215
    }
   ],
   "source": [
    "words[-1]"
   ]
  },
  {
   "cell_type": "code",
   "execution_count": 1216,
   "metadata": {},
   "outputs": [
    {
     "output_type": "execute_result",
     "data": {
      "text/plain": [
       "'h'"
      ]
     },
     "metadata": {},
     "execution_count": 1216
    }
   ],
   "source": [
    "guesses[-7340620987999072083]"
   ]
  },
  {
   "cell_type": "code",
   "execution_count": 1217,
   "metadata": {},
   "outputs": [
    {
     "output_type": "execute_result",
     "data": {
      "text/plain": [
       "[]"
      ]
     },
     "metadata": {},
     "execution_count": 1217
    }
   ],
   "source": [
    "list(filter(lambda x: (len(x)==len(\"koitethe\")) and (x.endswith(\"the\")) and x[3]==\"t\", english_words_lower_alpha_set))"
   ]
  },
  {
   "cell_type": "code",
   "execution_count": 1218,
   "metadata": {},
   "outputs": [
    {
     "output_type": "execute_result",
     "data": {
      "text/plain": [
       "[]"
      ]
     },
     "metadata": {},
     "execution_count": 1218
    }
   ],
   "source": [
    "list(filter(lambda x: (len(x)==len(\"koitethe\")) and (x.endswith(\"the\")) and x[3]==\"t\", english_words_lower_alpha_set))"
   ]
  },
  {
   "cell_type": "code",
   "execution_count": 1219,
   "metadata": {},
   "outputs": [
    {
     "output_type": "execute_result",
     "data": {
      "text/plain": [
       "['i',\n",
       " 'ronm',\n",
       " 'the',\n",
       " 'uhh',\n",
       " 'meewinz',\n",
       " 'be',\n",
       " 'sgue',\n",
       " 'koitethe',\n",
       " 'uhend',\n",
       " 'kogr',\n",
       " 'the',\n",
       " 'needed',\n",
       " 'rhshtve',\n",
       " 'rois.',\n",
       " 'roe',\n",
       " 'phde',\n",
       " 'rh',\n",
       " 'pett',\n",
       " 'jthpm',\n",
       " 'ffis',\n",
       " '',\n",
       " 'xqyf??yy?x.',\n",
       " 'pgtt',\n",
       " 'toe',\n",
       " 'teurbhsrwohne',\n",
       " 'inroe',\n",
       " 'visirhh',\n",
       " 'hhhb.']"
      ]
     },
     "metadata": {},
     "execution_count": 1219
    }
   ],
   "source": [
    "''.join(tryguess(mixedcharhashes, guesses)).split(\" \")"
   ]
  },
  {
   "cell_type": "code",
   "execution_count": 1237,
   "metadata": {},
   "outputs": [
    {
     "output_type": "execute_result",
     "data": {
      "text/plain": [
       "[-8789292385135583623,\n",
       " ' ',\n",
       " 584368594903755664,\n",
       " -6511095004521732972,\n",
       " -3035369802349865928,\n",
       " 2509527663965315969,\n",
       " ' ',\n",
       " -3097689048272806700,\n",
       " -1802109181629876847,\n",
       " -1002675021296112819,\n",
       " ' ',\n",
       " -4733258335474859282,\n",
       " -1802109181629876847,\n",
       " -7340620987999072083,\n",
       " ' ',\n",
       " 2509527663965315969,\n",
       " -988405675155176403,\n",
       " -988405675155176403,\n",
       " -9067876751967087666,\n",
       " -8789292385135583623,\n",
       " -3035369802349865928,\n",
       " -7024749559696779614,\n",
       " ' ',\n",
       " -8452328348498731207,\n",
       " -988405675155176403,\n",
       " ' ',\n",
       " 5120421374808883414,\n",
       " 5504965734805885606,\n",
       " -4733258335474859282,\n",
       " -988405675155176403,\n",
       " ' ',\n",
       " 1805302475516400880,\n",
       " -6511095004521732972,\n",
       " -8789292385135583623,\n",
       " -9085615887866229741,\n",
       " -988405675155176403,\n",
       " -3097689048272806700,\n",
       " -1802109181629876847,\n",
       " -1002675021296112819,\n",
       " ' ',\n",
       " -4733258335474859282,\n",
       " -1802109181629876847,\n",
       " -1002675021296112819,\n",
       " -3035369802349865928,\n",
       " -4521535532109211676,\n",
       " ' ',\n",
       " 1805302475516400880,\n",
       " -6511095004521732972,\n",
       " 5504965734805885606,\n",
       " 584368594903755664,\n",
       " ' ',\n",
       " -3097689048272806700,\n",
       " -1802109181629876847,\n",
       " -1002675021296112819,\n",
       " ' ',\n",
       " -3035369802349865928,\n",
       " -988405675155176403,\n",
       " -988405675155176403,\n",
       " -4521535532109211676,\n",
       " -988405675155176403,\n",
       " -4521535532109211676,\n",
       " ' ',\n",
       " 584368594903755664,\n",
       " -1802109181629876847,\n",
       " 5120421374808883414,\n",
       " -1802109181629876847,\n",
       " -9085615887866229741,\n",
       " 9167144518376816344,\n",
       " -988405675155176403,\n",
       " ' ',\n",
       " 584368594903755664,\n",
       " -6511095004521732972,\n",
       " -8789292385135583623,\n",
       " 5120421374808883414,\n",
       " '.',\n",
       " ' ',\n",
       " 584368594903755664,\n",
       " -6511095004521732972,\n",
       " -988405675155176403,\n",
       " ' ',\n",
       " 8847473630668275233,\n",
       " -1802109181629876847,\n",
       " -4521535532109211676,\n",
       " -988405675155176403,\n",
       " ' ',\n",
       " 584368594903755664,\n",
       " -1802109181629876847,\n",
       " ' ',\n",
       " 8847473630668275233,\n",
       " -988405675155176403,\n",
       " -9085615887866229741,\n",
       " -9085615887866229741,\n",
       " ' ',\n",
       " 7402601692938012335,\n",
       " -9085615887866229741,\n",
       " -1802109181629876847,\n",
       " 8847473630668275233,\n",
       " 2509527663965315969,\n",
       " ' ',\n",
       " -7040176001997385025,\n",
       " -7040176001997385025,\n",
       " -8789292385135583623,\n",
       " 5120421374808883414,\n",
       " ' ',\n",
       " ' ',\n",
       " 1082447874310338168,\n",
       " 2354102220707213224,\n",
       " 734060217467233423,\n",
       " -7040176001997385025,\n",
       " 709482857969816951,\n",
       " -3697668106134995398,\n",
       " 734060217467233423,\n",
       " 734060217467233423,\n",
       " -2741664984704633621,\n",
       " 1082447874310338168,\n",
       " '.',\n",
       " ' ',\n",
       " 8847473630668275233,\n",
       " 5504965734805885606,\n",
       " -9085615887866229741,\n",
       " -9085615887866229741,\n",
       " ' ',\n",
       " -3097689048272806700,\n",
       " -6511095004521732972,\n",
       " -988405675155176403,\n",
       " ' ',\n",
       " -9085615887866229741,\n",
       " -988405675155176403,\n",
       " -4733258335474859282,\n",
       " 584368594903755664,\n",
       " -8452328348498731207,\n",
       " -1802109181629876847,\n",
       " 5120421374808883414,\n",
       " 584368594903755664,\n",
       " -9067876751967087666,\n",
       " -6511095004521732972,\n",
       " -1802109181629876847,\n",
       " -3035369802349865928,\n",
       " -988405675155176403,\n",
       " ' ',\n",
       " -8789292385135583623,\n",
       " -3035369802349865928,\n",
       " 584368594903755664,\n",
       " -6511095004521732972,\n",
       " -988405675155176403,\n",
       " ' ',\n",
       " 9167144518376816344,\n",
       " -8789292385135583623,\n",
       " 5120421374808883414,\n",
       " -8789292385135583623,\n",
       " 584368594903755664,\n",
       " -1802109181629876847,\n",
       " -7340620987999072083,\n",
       " ' ',\n",
       " -7340620987999072083,\n",
       " -1802109181629876847,\n",
       " -1802109181629876847,\n",
       " -8452328348498731207,\n",
       " '.']"
      ]
     },
     "metadata": {},
     "execution_count": 1237
    }
   ],
   "source": [
    "mixedcharhashes"
   ]
  },
  {
   "cell_type": "code",
   "execution_count": 1247,
   "metadata": {},
   "outputs": [],
   "source": [
    "from sklearn import preprocessing\n",
    "\n",
    "le = preprocessing.LabelEncoder()"
   ]
  },
  {
   "cell_type": "code",
   "execution_count": 1248,
   "metadata": {},
   "outputs": [
    {
     "output_type": "stream",
     "name": "stdout",
     "text": [
      "1\n[-8789292385135583623]\n4\n[584368594903755664, -6511095004521732972, -3035369802349865928, 2509527663965315969]\n3\n[-3097689048272806700, -1802109181629876847, -1002675021296112819]\n3\n[-4733258335474859282, -1802109181629876847, -7340620987999072083]\n7\n[2509527663965315969, -988405675155176403, -988405675155176403, -9067876751967087666, -8789292385135583623, -3035369802349865928, -7024749559696779614]\n2\n[-8452328348498731207, -988405675155176403]\n4\n[5120421374808883414, 5504965734805885606, -4733258335474859282, -988405675155176403]\n8\n[1805302475516400880, -6511095004521732972, -8789292385135583623, -9085615887866229741, -988405675155176403, -3097689048272806700, -1802109181629876847, -1002675021296112819]\n5\n[-4733258335474859282, -1802109181629876847, -1002675021296112819, -3035369802349865928, -4521535532109211676]\n4\n[1805302475516400880, -6511095004521732972, 5504965734805885606, 584368594903755664]\n3\n[-3097689048272806700, -1802109181629876847, -1002675021296112819]\n6\n[-3035369802349865928, -988405675155176403, -988405675155176403, -4521535532109211676, -988405675155176403, -4521535532109211676]\n7\n[584368594903755664, -1802109181629876847, 5120421374808883414, -1802109181629876847, -9085615887866229741, 9167144518376816344, -988405675155176403]\n4\n[584368594903755664, -6511095004521732972, -8789292385135583623, 5120421374808883414]\n3\n[584368594903755664, -6511095004521732972, -988405675155176403]\n4\n[8847473630668275233, -1802109181629876847, -4521535532109211676, -988405675155176403]\n2\n[584368594903755664, -1802109181629876847]\n4\n[8847473630668275233, -988405675155176403, -9085615887866229741, -9085615887866229741]\n5\n[7402601692938012335, -9085615887866229741, -1802109181629876847, 8847473630668275233, 2509527663965315969]\n4\n[-7040176001997385025, -7040176001997385025, -8789292385135583623, 5120421374808883414]\n10\n[1082447874310338168, 2354102220707213224, 734060217467233423, -7040176001997385025, 709482857969816951, -3697668106134995398, 734060217467233423, 734060217467233423, -2741664984704633621, 1082447874310338168]\n4\n[8847473630668275233, 5504965734805885606, -9085615887866229741, -9085615887866229741]\n3\n[-3097689048272806700, -6511095004521732972, -988405675155176403]\n13\n[-9085615887866229741, -988405675155176403, -4733258335474859282, 584368594903755664, -8452328348498731207, -1802109181629876847, 5120421374808883414, 584368594903755664, -9067876751967087666, -6511095004521732972, -1802109181629876847, -3035369802349865928, -988405675155176403]\n5\n[-8789292385135583623, -3035369802349865928, 584368594903755664, -6511095004521732972, -988405675155176403]\n7\n[9167144518376816344, -8789292385135583623, 5120421374808883414, -8789292385135583623, 584368594903755664, -1802109181629876847, -7340620987999072083]\n4\n[-7340620987999072083, -1802109181629876847, -1802109181629876847, -8452328348498731207]\n"
     ]
    }
   ],
   "source": [
    "wordvecs = []\n",
    "le.fit(list(filter(lambda x: x not in [' ', '.'], mixedcharhashes)))\n",
    "for word in words:\n",
    "    lettervecs = le.transform(word)\n",
    "    if len(lettervecs) == 0: continue\n",
    "    print(len(word))\n",
    "    print(word)\n",
    "    wordvecs.append(lettervecs)"
   ]
  },
  {
   "cell_type": "code",
   "execution_count": 1261,
   "metadata": {},
   "outputs": [
    {
     "output_type": "stream",
     "name": "stdout",
     "text": [
      "[2]\n[17, 7, 12, 23]\n[11, 14, 15]\n[8, 14, 4]\n[23, 16, 16, 1, 2, 12, 6]\n[3, 16]\n[24, 25, 8, 16]\n[21, 7, 2, 0, 16, 11, 14, 15]\n[8, 14, 15, 12, 9]\n[21, 7, 25, 17]\n[11, 14, 15]\n[12, 16, 16, 9, 16, 9]\n[17, 14, 24, 14, 0, 28, 16]\n[17, 7, 2, 24]\n[17, 7, 16]\n[27, 14, 9, 16]\n[17, 14]\n[27, 16, 0, 0]\n[26, 0, 14, 27, 23]\n[5, 5, 2, 24]\n[20, 22, 19, 5, 18, 10, 19, 19, 13, 20]\n[27, 25, 0, 0]\n[11, 7, 16]\n[0, 16, 8, 17, 3, 14, 24, 17, 1, 7, 14, 12, 16]\n[2, 12, 17, 7, 16]\n[28, 2, 24, 2, 17, 14, 4]\n[4, 14, 14, 3]\n"
     ]
    }
   ],
   "source": [
    "for wordvec in wordvecs:\n",
    "    print(list(wordvec))"
   ]
  },
  {
   "cell_type": "code",
   "execution_count": 1263,
   "metadata": {},
   "outputs": [],
   "source": [
    "#list(filter(lambda x: (len(x)==13), english_words_lower_alpha_set))"
   ]
  },
  {
   "cell_type": "code",
   "execution_count": 1254,
   "metadata": {},
   "outputs": [
    {
     "output_type": "execute_result",
     "data": {
      "text/plain": [
       "28"
      ]
     },
     "metadata": {},
     "execution_count": 1254
    }
   ],
   "source": [
    "max(list(map(lambda x: max(x), wordvecs)))"
   ]
  },
  {
   "cell_type": "code",
   "execution_count": 1257,
   "metadata": {},
   "outputs": [],
   "source": [
    "start = \"EARIOTNSLCUDPMHGBFYWKVXZJQ\".lower()"
   ]
  },
  {
   "cell_type": "code",
   "execution_count": 1258,
   "metadata": {},
   "outputs": [
    {
     "output_type": "execute_result",
     "data": {
      "text/plain": [
       "26"
      ]
     },
     "metadata": {},
     "execution_count": 1258
    }
   ],
   "source": [
    "len(start)"
   ]
  },
  {
   "cell_type": "code",
   "execution_count": 1259,
   "metadata": {},
   "outputs": [
    {
     "output_type": "execute_result",
     "data": {
      "text/plain": [
       "29"
      ]
     },
     "metadata": {},
     "execution_count": 1259
    }
   ],
   "source": [
    "start += \"abc\"\n",
    "len(start)"
   ]
  },
  {
   "cell_type": "code",
   "execution_count": 1260,
   "metadata": {},
   "outputs": [
    {
     "output_type": "execute_result",
     "data": {
      "text/plain": [
       "'eariotnslcudpmhgbfywkvxzjqabc'"
      ]
     },
     "metadata": {},
     "execution_count": 1260
    }
   ],
   "source": [
    "start"
   ]
  },
  {
   "cell_type": "code",
   "execution_count": null,
   "metadata": {},
   "outputs": [],
   "source": []
  }
 ]
}