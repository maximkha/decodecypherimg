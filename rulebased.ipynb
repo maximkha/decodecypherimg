{
 "metadata": {
  "language_info": {
   "codemirror_mode": {
    "name": "ipython",
    "version": 3
   },
   "file_extension": ".py",
   "mimetype": "text/x-python",
   "name": "python",
   "nbconvert_exporter": "python",
   "pygments_lexer": "ipython3",
   "version": "3.8.0"
  },
  "orig_nbformat": 4,
  "kernelspec": {
   "name": "python3",
   "display_name": "Python 3.8.0 64-bit"
  },
  "interpreter": {
   "hash": "c4a6cc1c2df5ddd62d6925b2a7bdee9abacf912eab37272999970e810b9642fd"
  }
 },
 "nbformat": 4,
 "nbformat_minor": 2,
 "cells": [
  {
   "cell_type": "code",
   "execution_count": 3128,
   "metadata": {},
   "outputs": [],
   "source": [
    "wordList = [\n",
    "    [2],                                                 #i\n",
    "    [17, 7, 12, 23],                                     #th?k\n",
    "    [11, 14, 15],                                        #you\n",
    "    [8, 14, 4],                                          #for\n",
    "    [23, 16, 16, 1, 2, 12, 6],                           #keeping \n",
    "    [3, 16],                                             #me\n",
    "    [24, 25, 8, 16],                                     #safe\n",
    "    [21, 7, 2, 0, 16, 11, 14, 15],                       #?hile?o?\n",
    "    [8, 14, 15, 12, 9],                                  #fo???\n",
    "    [21, 7, 25, 17],                                     #?hat\n",
    "    [11, 14, 15],                                        #?o?\n",
    "    [12, 16, 16, 9, 16, 9],                              #?ee?e?\n",
    "    [17, 14, 24, 14, 0, 28, 16],                         #tosolve\n",
    "    [17, 7, 2, 24],                                      #this\n",
    "    [17, 7, 16],                                         #the\n",
    "    [27, 14, 9, 16],                                     #code\n",
    "    [17, 14],                                            #to\n",
    "    [27, 16, 0, 0],                                      #cell\n",
    "    [26, 0, 14, 27, 23],                                 #block\n",
    "    [5, 5, 2, 24],                                       #??is\n",
    "    [20, 22, 19, 5, 18, 10, 19, 19, 13, 20],             #??????????\n",
    "    [27, 25, 0, 0],                                      #call\n",
    "    [11, 7, 16],                                         #?he\n",
    "    [0, 16, 8, 17, 3, 14, 24, 17, 1, 7, 14, 12, 16],     #leftmost?ho?e\n",
    "    [2, 12, 17, 7, 16],                                  #i?the\n",
    "    [28, 2, 24, 2, 17, 14, 4],                           #visitor\n",
    "    [4, 14, 14, 3],                                      #room\n",
    "]"
   ]
  },
  {
   "cell_type": "code",
   "execution_count": 3129,
   "metadata": {},
   "outputs": [],
   "source": [
    "from english_words import english_words_lower_alpha_set"
   ]
  },
  {
   "cell_type": "code",
   "execution_count": 3130,
   "metadata": {},
   "outputs": [],
   "source": [
    "ALPH = list(set(list(\"eariotnslcudpmhgbfywkvxzjqear\")))"
   ]
  },
  {
   "cell_type": "code",
   "execution_count": 3131,
   "metadata": {},
   "outputs": [],
   "source": [
    "from collections import defaultdict, Counter"
   ]
  },
  {
   "cell_type": "code",
   "execution_count": 3132,
   "metadata": {},
   "outputs": [],
   "source": [
    "posschars = defaultdict(lambda: ALPH)"
   ]
  },
  {
   "cell_type": "code",
   "execution_count": 3133,
   "metadata": {},
   "outputs": [],
   "source": [
    "# posschars[2] = ['i'] # ['i', 'a']\n",
    "posschars[2] = ['i', 'a']\n",
    "posschars[4] = ['r']\n",
    "posschars[14] = ['o']\n",
    "posschars[3] = ['m']\n",
    "\n",
    "posschars[7] = ['h']\n",
    "posschars[16] = ['e']\n",
    "posschars[23] = ['k']\n",
    "\n",
    "posschars[28] = ['v']\n",
    "posschars[24] = ['s']\n",
    "posschars[17] = ['t']\n",
    "\n",
    "# posschars[11] = ['y']\n",
    "# posschars[15] = ['u']\n",
    "\n",
    "# # [8, 14, 4]\n",
    "# posschars[8] = ['f']\n",
    "\n",
    "# #keeping \n",
    "# # [23, 16, 16, 1, 2, 12, 6]\n",
    "# posschars[1] = [\"p\"]\n",
    "# posschars[12] = [\"n\"]\n",
    "# posschars[6] = [\"g\"]\n",
    "\n",
    "# #safe\n",
    "# posschars[25] = [\"f\"]\n",
    "\n",
    "# #tosolve\n",
    "# posschars[0] = [\"l\"]\n",
    "\n",
    "# posschars[27] = [\"c\"]\n",
    "# posschars[9] = [\"d\"]\n",
    "\n",
    "# posschars[26] = [\"b\"]\n",
    "# posschars[21] = [\"w\"]\n",
    "# posschars[25] = ['a']\n",
    "# posschars[11] = ['y']\n",
    "\n",
    "# posschars[5] = ['1']\n",
    "\n",
    "#Eleventh\n",
    "# posschars[20] = ['e']\n",
    "# posschars[22] = ['l']\n",
    "# posschars[19] = ['n']\n",
    "# posschars[18] = ['h']"
   ]
  },
  {
   "cell_type": "code",
   "execution_count": 3134,
   "metadata": {},
   "outputs": [],
   "source": [
    "def list_duplicates(seq):\n",
    "    tally = defaultdict(list)\n",
    "    for i,item in enumerate(seq):\n",
    "        tally[item].append(i)\n",
    "    return ((key,locs) for key,locs in tally.items() \n",
    "                            if len(locs)>1)"
   ]
  },
  {
   "cell_type": "code",
   "execution_count": 3135,
   "metadata": {},
   "outputs": [],
   "source": [
    "def dynPred(word, posscharmap = None, mode=\"perfect\"):\n",
    "    global ALPH\n",
    "    tot = 0.\n",
    "    max_char_idx = -1\n",
    "\n",
    "    # lamstr = \"lambda x: \" # add this yourself\n",
    "    lamstr = \"\"\n",
    "    if mode == \"perfect\": lamstr += f\"(len(x)=={len(word)})\"\n",
    "    elif mode == \"appx\": lamstr += f\"float(len(x)=={len(word)})\"\n",
    "    tot += 1.\n",
    "    if len(word) != len(set(word)):\n",
    "        #we have duplicates, create constraints\n",
    "        for k, dupindxs in list_duplicates(word):\n",
    "            first = None\n",
    "            for dupindx in dupindxs:\n",
    "                if first == None:\n",
    "                    first = dupindx\n",
    "                    continue\n",
    "                if mode == \"perfect\": lamstr += f\" and (x[{first}]==x[{dupindx}])\"\n",
    "                elif mode == \"appx\": lamstr += f\" + float(x[{first}]==x[{dupindx}])\"\n",
    "                max_char_idx = max(first, max_char_idx)\n",
    "                max_char_idx = max(dupindx, max_char_idx)\n",
    "                tot += 1.\n",
    "    \n",
    "    for i in range(len(word)):\n",
    "        for j in range(len(word)):\n",
    "            if word[i] != word[j]:\n",
    "                max_char_idx = max(i, max_char_idx)\n",
    "                max_char_idx = max(j, max_char_idx)\n",
    "                if mode == \"perfect\": lamstr += f\" and (x[{i}]!=x[{j}])\"\n",
    "                elif mode == \"appx\": lamstr += f\" + float(x[{i}]!=x[{j}])\"\n",
    "\n",
    "    for i, charid in enumerate(word):\n",
    "        # print(posscharmap[charid])\n",
    "        # print(charid)\n",
    "        # print(posscharmap[charid])\n",
    "        if len(posscharmap[charid]) < len(ALPH):\n",
    "            if len(posscharmap[charid]) == 1:\n",
    "                if mode == \"perfect\": lamstr += f\" and (x[{i}]=='{posscharmap[charid][0]}')\"\n",
    "                elif mode == \"appx\": lamstr += f\" + float(x[{i}]=='{posscharmap[charid][0]}')\"\n",
    "                max_char_idx = max(i, max_char_idx)\n",
    "                tot += 1.\n",
    "            else:\n",
    "                strlist = '['+', '.join(map(lambda x: '\\''+x+'\\'', posscharmap[charid])) + ']'\n",
    "                if mode == \"perfect\": lamstr += f\" and (x[{i}] in {strlist})\"\n",
    "                elif mode == \"appx\": lamstr += f\" + float(x[{i}] in {strlist})\"\n",
    "                max_char_idx = max(i, max_char_idx)\n",
    "                tot += 1.\n",
    "\n",
    "    if mode == \"appx\": return f\"({lamstr})/{tot}\", max_char_idx\n",
    "    \n",
    "    return lamstr, max_char_idx"
   ]
  },
  {
   "cell_type": "code",
   "execution_count": 3136,
   "metadata": {},
   "outputs": [],
   "source": [
    "def fullgen(word, posschars, matchp = 1., verb=False):\n",
    "    if matchp >= 1.:\n",
    "        lambbody, maxacc = dynPred(word, posschars, 'perfect')\n",
    "        if verb: print(f\"querying 'lambda x: {lambbody}'\")\n",
    "        return f\"lambda x: {lambbody}\"\n",
    "    else:\n",
    "        lambbody, maxacc = dynPred(word, posschars, 'appx')\n",
    "        if verb: print(f\"querying 'lambda x: (len(x) > {maxacc}) and ({lambbody} > {matchp})'\")\n",
    "        return f\"lambda x: (len(x) > {maxacc}) and ({lambbody} > {matchp})\""
   ]
  },
  {
   "cell_type": "code",
   "execution_count": 3137,
   "metadata": {},
   "outputs": [],
   "source": [
    "def chars(words):\n",
    "    longest = max(map(lambda x: len(x), words))\n",
    "    charhist = []\n",
    "    for i in range(longest):\n",
    "        charhist.append(Counter())\n",
    "\n",
    "    for word in words:\n",
    "        for j in range(longest):\n",
    "            if j >= len(word):\n",
    "                charhist[j][None] += 1\n",
    "            else:\n",
    "                charhist[j][word[j]] += 1\n",
    "    return charhist"
   ]
  },
  {
   "cell_type": "code",
   "execution_count": 3138,
   "metadata": {},
   "outputs": [],
   "source": [
    "def updateposschars(word, charshist):\n",
    "    updatedchars = {}\n",
    "    for i in range(len(word)):\n",
    "        updatedchars[word[i]] = list(set(charshist[i].keys()))\n",
    "    return updatedchars"
   ]
  },
  {
   "cell_type": "code",
   "execution_count": 3139,
   "metadata": {},
   "outputs": [],
   "source": [
    "# posschars"
   ]
  },
  {
   "cell_type": "code",
   "execution_count": 3140,
   "metadata": {},
   "outputs": [],
   "source": [
    "# lambbody, maxacc = dynPred([20, 22, 19, 5, 18, 10, 19, 13, 20], posschars, 'appx')\n",
    "# lambbody, maxacc = dynPred([17, 14, 24, 14, 0, 28, 16], posschars, 'appx')\n",
    "# lambbody, maxacc = dynPred([23, 16, 16, 1, 2, 12, 6], posschars, 'appx')\n",
    "# lambs = f\"lambda x: (len(x) > {maxacc}) and ({lambbody} > .5)\"\n",
    "\n",
    "# lambbody, maxacc = dynPred([17, 14, 24, 14, 0, 28, 16], posschars, 'perfect')\n",
    "# lambs = f\"lambda x: {lambbody}\""
   ]
  },
  {
   "cell_type": "code",
   "execution_count": 3141,
   "metadata": {},
   "outputs": [],
   "source": [
    "lambs = fullgen([4, 14, 14, 3], posschars, 1.)"
   ]
  },
  {
   "cell_type": "code",
   "execution_count": null,
   "metadata": {},
   "outputs": [],
   "source": []
  },
  {
   "cell_type": "code",
   "execution_count": 3142,
   "metadata": {},
   "outputs": [
    {
     "output_type": "execute_result",
     "data": {
      "text/plain": [
       "\"lambda x: (len(x)==4) and (x[1]==x[2]) and (x[0]!=x[1]) and (x[0]!=x[2]) and (x[0]!=x[3]) and (x[1]!=x[0]) and (x[1]!=x[3]) and (x[2]!=x[0]) and (x[2]!=x[3]) and (x[3]!=x[0]) and (x[3]!=x[1]) and (x[3]!=x[2]) and (x[0]=='r') and (x[1]=='o') and (x[2]=='o') and (x[3]=='m')\""
      ]
     },
     "metadata": {},
     "execution_count": 3142
    }
   ],
   "source": [
    "lambs"
   ]
  },
  {
   "cell_type": "code",
   "execution_count": 3143,
   "metadata": {},
   "outputs": [],
   "source": [
    "cuslamb = eval(lambs)"
   ]
  },
  {
   "cell_type": "code",
   "execution_count": 3144,
   "metadata": {},
   "outputs": [],
   "source": [
    "# results = list(filter(cuslamb, english_words_lower_alpha_set))\n",
    "# results"
   ]
  },
  {
   "cell_type": "code",
   "execution_count": 3145,
   "metadata": {},
   "outputs": [],
   "source": [
    "# tdict = updateposschars([4, 14, 14, 3], chars(results))\r\n",
    "# for k, v in tdict.items():\r\n",
    "#     posschars[k] = list(set(posschars[k]).intersection(set(v)))"
   ]
  },
  {
   "cell_type": "code",
   "execution_count": 3146,
   "metadata": {},
   "outputs": [],
   "source": [
    "# WORDID = 12\n",
    "# lambs = fullgen(wordList[WORDID], posschars, 1.)\n",
    "# cuslamb = eval(lambs)\n",
    "# results = list(filter(cuslamb, english_words_lower_alpha_set))\n",
    "# posschars.update(updateposschars(wordList[WORDID], chars(results)))"
   ]
  },
  {
   "cell_type": "code",
   "execution_count": 3147,
   "metadata": {},
   "outputs": [],
   "source": [
    "# posschars"
   ]
  },
  {
   "cell_type": "code",
   "execution_count": 3148,
   "metadata": {},
   "outputs": [],
   "source": [
    "def tryguess(arr, guessmap):\n",
    "    defaultedguesses = defaultdict(lambda: \"?\")\n",
    "    for k, v in guessmap.items():\n",
    "        if len(v) == 1:\n",
    "            defaultedguesses[k] = v[0]\n",
    "    return list(map(lambda x: defaultedguesses.__getitem__(x), arr))"
   ]
  },
  {
   "cell_type": "code",
   "execution_count": 3149,
   "metadata": {},
   "outputs": [],
   "source": [
    "posschars[-1] = [\" \"]"
   ]
  },
  {
   "cell_type": "code",
   "execution_count": 3150,
   "metadata": {},
   "outputs": [
    {
     "output_type": "execute_result",
     "data": {
      "text/plain": [
       "'? th?k ?o? ?or kee???? me s??e ?h??e?o? ?o??? ?h?t ?o? ?ee?e? toso?ve th?s the ?o?e to ?e?? ??o?k ???s ?????????? ???? ?he ?e?tmost?ho?e ??the v?s?tor room '"
      ]
     },
     "metadata": {},
     "execution_count": 3150
    }
   ],
   "source": [
    "''.join(tryguess(sum([word + [-1] for word in wordList], start=[]), posschars))"
   ]
  },
  {
   "cell_type": "code",
   "execution_count": 3151,
   "metadata": {},
   "outputs": [],
   "source": [
    "# for word in sorted(wordList, key=lambda x: len(x)):\n",
    "#     lambs = fullgen(word, posschars, .2)\n",
    "#     cuslamb = eval(lambs)\n",
    "#     results = list(filter(cuslamb, english_words_lower_alpha_set))\n",
    "#     posschars.update(updateposschars(word, chars(results)))\n",
    "#     print(''.join(tryguess(sum([word + [-1] for word in wordList], start=[]), posschars)))"
   ]
  },
  {
   "cell_type": "code",
   "execution_count": 3152,
   "metadata": {},
   "outputs": [],
   "source": [
    "import random"
   ]
  },
  {
   "cell_type": "code",
   "execution_count": 3153,
   "metadata": {},
   "outputs": [],
   "source": [
    "reduced_eng = list(filter(lambda x: x not in ['aaas', 'algae', 'allele', 'chromatograph', 'tor', 'mn', 'mt', 'mo', 'md', 'mu', 'mi', 'ma', 'nor', 'leeward', 'assuage', 'ms', 'mr', 'joe', 'lee', 'des', 'poe', 'ho', 'jo', 'io', 'co', 'lo', 'po', 'fount'], english_words_lower_alpha_set))"
   ]
  },
  {
   "cell_type": "code",
   "execution_count": 3154,
   "metadata": {},
   "outputs": [],
   "source": [
    "def runon(word):\n",
    "    global posschars, reduced_eng, posschars, wordList\n",
    "    lambs = fullgen(word, posschars, 1)\n",
    "    cuslamb = eval(lambs)\n",
    "    results = list(filter(cuslamb, reduced_eng))\n",
    "    tdict = updateposschars(word, chars(results))\n",
    "    for k, v in tdict.items():\n",
    "        posschars[k] = list(set(posschars[k]).intersection(set(v)))\n",
    "    #posschars.update(updateposschars(word, chars(results)))\n",
    "    print(''.join(tryguess(sum([word + [-1] for word in wordList], start=[]), posschars)))"
   ]
  },
  {
   "cell_type": "code",
   "execution_count": 3155,
   "metadata": {
    "tags": []
   },
   "outputs": [],
   "source": [
    "# for i in range(5):\n",
    "#     #sorted(wordList, key=lambda x: len(x)):\n",
    "#     #sorted(wordList, key=lambda x: random.random())\n",
    "#     for word in sorted(wordList, key=lambda x: random.random()):\n",
    "#         try:\n",
    "#             runon(word)\n",
    "#         except:\n",
    "#             pass\n",
    "# print(\"Done\")"
   ]
  },
  {
   "cell_type": "code",
   "execution_count": 3156,
   "metadata": {},
   "outputs": [
    {
     "output_type": "stream",
     "name": "stdout",
     "text": [
      "? th?k ?o? for kee???? me s?fe ?h??e?o? fo??? ?h?t ?o? ?ee?e? toso?ve th?s the ?o?e to ?e?? ??o?k ???s ?????????? ???? ?he ?eftmost?ho?e ??the v?s?tor room \n? th?k ?o? for kee???? me s?fe ?h??e?o? fo??? ?h?t ?o? ?ee?e? toso?ve th?s the ?o?e to ?e?? ??o?k ???s ?????????? ???? ?he ?eftmost?ho?e ??the v?s?tor room \n? th?k ?o? for kee???? me s?fe ?h??e?o? fo??? ?h?t ?o? ?ee?e? toso?ve th?s the ?o?e to ?e?? ??o?k ???s ?????????? ???? ?he ?eftmost?ho?e ??the v?s?tor room \n? th?k ?o? for kee???? me s?fe ?h??e?o? fo??? ?h?t ?o? ?ee?e? toso?ve th?s the ?o?e to ?e?? ??o?k ???s ?????????? ???? ?he ?eftmost?ho?e ??the v?s?tor room \n? th?k ?o? for kee???? me s?fe ?h??e?o? fo??? ?h?t ?o? ?ee?e? toso?ve th?s the ?o?e to ?e?? ??o?k ???s ?????????? ???? ?he ?eftmost?ho?e ??the v?s?tor room \n? th?k ?o? for kee???? me s?fe ?h??e?o? fo??? ?h?t ?o? ?ee?e? toso?ve th?s the ?o?e to ?e?? ??o?k ???s ?????????? ???? ?he ?eftmost?ho?e ??the v?s?tor room \n"
     ]
    },
    {
     "output_type": "error",
     "ename": "ValueError",
     "evalue": "max() arg is an empty sequence",
     "traceback": [
      "\u001b[1;31m---------------------------------------------------------------------------\u001b[0m",
      "\u001b[1;31mValueError\u001b[0m                                Traceback (most recent call last)",
      "\u001b[1;32m<ipython-input-3156-8e3324c65a7c>\u001b[0m in \u001b[0;36m<module>\u001b[1;34m\u001b[0m\n\u001b[0;32m      2\u001b[0m \u001b[1;33m\u001b[0m\u001b[0m\n\u001b[0;32m      3\u001b[0m \u001b[1;32mfor\u001b[0m \u001b[0mword\u001b[0m \u001b[1;32min\u001b[0m \u001b[0msorted\u001b[0m\u001b[1;33m(\u001b[0m\u001b[0mwordList\u001b[0m\u001b[1;33m,\u001b[0m \u001b[0mkey\u001b[0m\u001b[1;33m=\u001b[0m\u001b[1;32mlambda\u001b[0m \u001b[0mx\u001b[0m\u001b[1;33m:\u001b[0m \u001b[0mrandom\u001b[0m\u001b[1;33m.\u001b[0m\u001b[0mrandom\u001b[0m\u001b[1;33m(\u001b[0m\u001b[1;33m)\u001b[0m\u001b[1;33m)\u001b[0m\u001b[1;33m:\u001b[0m\u001b[1;33m\u001b[0m\u001b[1;33m\u001b[0m\u001b[0m\n\u001b[1;32m----> 4\u001b[1;33m     \u001b[0mrunon\u001b[0m\u001b[1;33m(\u001b[0m\u001b[0mword\u001b[0m\u001b[1;33m)\u001b[0m\u001b[1;33m\u001b[0m\u001b[1;33m\u001b[0m\u001b[0m\n\u001b[0m\u001b[0;32m      5\u001b[0m     \u001b[1;31m# lambs = fullgen(word, posschars, 1)\u001b[0m\u001b[1;33m\u001b[0m\u001b[1;33m\u001b[0m\u001b[1;33m\u001b[0m\u001b[0m\n\u001b[0;32m      6\u001b[0m     \u001b[1;31m# cuslamb = eval(lambs)\u001b[0m\u001b[1;33m\u001b[0m\u001b[1;33m\u001b[0m\u001b[1;33m\u001b[0m\u001b[0m\n",
      "\u001b[1;32m<ipython-input-3154-bac765424884>\u001b[0m in \u001b[0;36mrunon\u001b[1;34m(word)\u001b[0m\n\u001b[0;32m      4\u001b[0m     \u001b[0mcuslamb\u001b[0m \u001b[1;33m=\u001b[0m \u001b[0meval\u001b[0m\u001b[1;33m(\u001b[0m\u001b[0mlambs\u001b[0m\u001b[1;33m)\u001b[0m\u001b[1;33m\u001b[0m\u001b[1;33m\u001b[0m\u001b[0m\n\u001b[0;32m      5\u001b[0m     \u001b[0mresults\u001b[0m \u001b[1;33m=\u001b[0m \u001b[0mlist\u001b[0m\u001b[1;33m(\u001b[0m\u001b[0mfilter\u001b[0m\u001b[1;33m(\u001b[0m\u001b[0mcuslamb\u001b[0m\u001b[1;33m,\u001b[0m \u001b[0mreduced_eng\u001b[0m\u001b[1;33m)\u001b[0m\u001b[1;33m)\u001b[0m\u001b[1;33m\u001b[0m\u001b[1;33m\u001b[0m\u001b[0m\n\u001b[1;32m----> 6\u001b[1;33m     \u001b[0mtdict\u001b[0m \u001b[1;33m=\u001b[0m \u001b[0mupdateposschars\u001b[0m\u001b[1;33m(\u001b[0m\u001b[0mword\u001b[0m\u001b[1;33m,\u001b[0m \u001b[0mchars\u001b[0m\u001b[1;33m(\u001b[0m\u001b[0mresults\u001b[0m\u001b[1;33m)\u001b[0m\u001b[1;33m)\u001b[0m\u001b[1;33m\u001b[0m\u001b[1;33m\u001b[0m\u001b[0m\n\u001b[0m\u001b[0;32m      7\u001b[0m     \u001b[1;32mfor\u001b[0m \u001b[0mk\u001b[0m\u001b[1;33m,\u001b[0m \u001b[0mv\u001b[0m \u001b[1;32min\u001b[0m \u001b[0mtdict\u001b[0m\u001b[1;33m.\u001b[0m\u001b[0mitems\u001b[0m\u001b[1;33m(\u001b[0m\u001b[1;33m)\u001b[0m\u001b[1;33m:\u001b[0m\u001b[1;33m\u001b[0m\u001b[1;33m\u001b[0m\u001b[0m\n\u001b[0;32m      8\u001b[0m         \u001b[0mposschars\u001b[0m\u001b[1;33m[\u001b[0m\u001b[0mk\u001b[0m\u001b[1;33m]\u001b[0m \u001b[1;33m=\u001b[0m \u001b[0mlist\u001b[0m\u001b[1;33m(\u001b[0m\u001b[0mset\u001b[0m\u001b[1;33m(\u001b[0m\u001b[0mposschars\u001b[0m\u001b[1;33m[\u001b[0m\u001b[0mk\u001b[0m\u001b[1;33m]\u001b[0m\u001b[1;33m)\u001b[0m\u001b[1;33m.\u001b[0m\u001b[0mintersection\u001b[0m\u001b[1;33m(\u001b[0m\u001b[0mset\u001b[0m\u001b[1;33m(\u001b[0m\u001b[0mv\u001b[0m\u001b[1;33m)\u001b[0m\u001b[1;33m)\u001b[0m\u001b[1;33m)\u001b[0m\u001b[1;33m\u001b[0m\u001b[1;33m\u001b[0m\u001b[0m\n",
      "\u001b[1;32m<ipython-input-3137-6ff6c6dcc715>\u001b[0m in \u001b[0;36mchars\u001b[1;34m(words)\u001b[0m\n\u001b[0;32m      1\u001b[0m \u001b[1;32mdef\u001b[0m \u001b[0mchars\u001b[0m\u001b[1;33m(\u001b[0m\u001b[0mwords\u001b[0m\u001b[1;33m)\u001b[0m\u001b[1;33m:\u001b[0m\u001b[1;33m\u001b[0m\u001b[1;33m\u001b[0m\u001b[0m\n\u001b[1;32m----> 2\u001b[1;33m     \u001b[0mlongest\u001b[0m \u001b[1;33m=\u001b[0m \u001b[0mmax\u001b[0m\u001b[1;33m(\u001b[0m\u001b[0mmap\u001b[0m\u001b[1;33m(\u001b[0m\u001b[1;32mlambda\u001b[0m \u001b[0mx\u001b[0m\u001b[1;33m:\u001b[0m \u001b[0mlen\u001b[0m\u001b[1;33m(\u001b[0m\u001b[0mx\u001b[0m\u001b[1;33m)\u001b[0m\u001b[1;33m,\u001b[0m \u001b[0mwords\u001b[0m\u001b[1;33m)\u001b[0m\u001b[1;33m)\u001b[0m\u001b[1;33m\u001b[0m\u001b[1;33m\u001b[0m\u001b[0m\n\u001b[0m\u001b[0;32m      3\u001b[0m     \u001b[0mcharhist\u001b[0m \u001b[1;33m=\u001b[0m \u001b[1;33m[\u001b[0m\u001b[1;33m]\u001b[0m\u001b[1;33m\u001b[0m\u001b[1;33m\u001b[0m\u001b[0m\n\u001b[0;32m      4\u001b[0m     \u001b[1;32mfor\u001b[0m \u001b[0mi\u001b[0m \u001b[1;32min\u001b[0m \u001b[0mrange\u001b[0m\u001b[1;33m(\u001b[0m\u001b[0mlongest\u001b[0m\u001b[1;33m)\u001b[0m\u001b[1;33m:\u001b[0m\u001b[1;33m\u001b[0m\u001b[1;33m\u001b[0m\u001b[0m\n\u001b[0;32m      5\u001b[0m         \u001b[0mcharhist\u001b[0m\u001b[1;33m.\u001b[0m\u001b[0mappend\u001b[0m\u001b[1;33m(\u001b[0m\u001b[0mCounter\u001b[0m\u001b[1;33m(\u001b[0m\u001b[1;33m)\u001b[0m\u001b[1;33m)\u001b[0m\u001b[1;33m\u001b[0m\u001b[1;33m\u001b[0m\u001b[0m\n",
      "\u001b[1;31mValueError\u001b[0m: max() arg is an empty sequence"
     ]
    }
   ],
   "source": [
    "#reduced_eng = english_words_lower_alpha_set\n",
    "\n",
    "for word in sorted(wordList, key=lambda x: random.random()):\n",
    "    runon(word)\n",
    "    # lambs = fullgen(word, posschars, 1)\n",
    "    # cuslamb = eval(lambs)\n",
    "    # results = list(filter(cuslamb, reduced_eng))\n",
    "    # tdict = updateposschars(word, chars(results))\n",
    "    # for k, v in tdict.items():\n",
    "    #     posschars[k] = list(set(posschars[k]).intersection(set(v)))\n",
    "    # #posschars.update(updateposschars(word, chars(results)))\n",
    "    # print(''.join(tryguess(sum([word + [-1] for word in wordList], start=[]), posschars)))"
   ]
  },
  {
   "cell_type": "code",
   "execution_count": 2010,
   "metadata": {},
   "outputs": [],
   "source": [
    "# posschars"
   ]
  },
  {
   "cell_type": "code",
   "execution_count": null,
   "metadata": {},
   "outputs": [],
   "source": []
  },
  {
   "cell_type": "code",
   "execution_count": 2011,
   "metadata": {},
   "outputs": [
    {
     "output_type": "stream",
     "name": "stdout",
     "text": [
      "98 results\n"
     ]
    },
    {
     "output_type": "execute_result",
     "data": {
      "text/plain": [
       "['seen',\n",
       " 'jeep',\n",
       " 'beep',\n",
       " 'good',\n",
       " 'haas',\n",
       " 'moor',\n",
       " 'ally',\n",
       " 'reed',\n",
       " 'boom',\n",
       " 'deep',\n",
       " 'feed',\n",
       " 'meet',\n",
       " 'seep',\n",
       " 'feel',\n",
       " 'pooh',\n",
       " 'doom',\n",
       " 'abbe',\n",
       " 'leer',\n",
       " 'seek',\n",
       " 'teem',\n",
       " 'deem',\n",
       " 'reek',\n",
       " 'beef',\n",
       " 'nook',\n",
       " 'boor',\n",
       " 'week',\n",
       " 'reef',\n",
       " 'zoom',\n",
       " 'veer',\n",
       " 'keel',\n",
       " 'heed',\n",
       " 'rood',\n",
       " 'mood',\n",
       " 'loop',\n",
       " 'leek',\n",
       " 'loot',\n",
       " 'reel',\n",
       " 'beer',\n",
       " 'ammo',\n",
       " 'weed',\n",
       " 'weep',\n",
       " 'wood',\n",
       " 'moot',\n",
       " 'iffy',\n",
       " 'book',\n",
       " 'roof',\n",
       " 'peel',\n",
       " 'root',\n",
       " 'cool',\n",
       " 'fool',\n",
       " 'foot',\n",
       " 'boot',\n",
       " 'wool',\n",
       " 'feet',\n",
       " 'poor',\n",
       " 'loon',\n",
       " 'cook',\n",
       " 'took',\n",
       " 'coot',\n",
       " 'look',\n",
       " 'beet',\n",
       " 'soot',\n",
       " 'moon',\n",
       " 'pool',\n",
       " 'door',\n",
       " 'soon',\n",
       " 'seem',\n",
       " 'hood',\n",
       " 'hook',\n",
       " 'seed',\n",
       " 'tool',\n",
       " 'room',\n",
       " 'ella',\n",
       " 'eddy',\n",
       " 'coon',\n",
       " 'anne',\n",
       " 'hoof',\n",
       " 'keen',\n",
       " 'loom',\n",
       " 'peer',\n",
       " 'emma',\n",
       " 'need',\n",
       " 'meek',\n",
       " 'been',\n",
       " 'haag',\n",
       " 'heel',\n",
       " 'boon',\n",
       " 'food',\n",
       " 'goof',\n",
       " 'hoot',\n",
       " 'rook',\n",
       " 'keep',\n",
       " 'peek',\n",
       " 'hoop',\n",
       " 'coop',\n",
       " 'ussr',\n",
       " 'deer',\n",
       " 'teen']"
      ]
     },
     "metadata": {},
     "execution_count": 2011
    }
   ],
   "source": [
    "lambs = fullgen(wordList[-1], posschars, 1)\n",
    "cuslamb = eval(lambs)\n",
    "results = list(filter(cuslamb, reduced_eng))\n",
    "print(f\"{len(results)} results\")\n",
    "results"
   ]
  },
  {
   "cell_type": "code",
   "execution_count": 2012,
   "metadata": {},
   "outputs": [
    {
     "output_type": "stream",
     "name": "stdout",
     "text": [
      "0 results\n"
     ]
    },
    {
     "output_type": "execute_result",
     "data": {
      "text/plain": [
       "[]"
      ]
     },
     "metadata": {},
     "execution_count": 2012
    }
   ],
   "source": [
    "lambs = fullgen(wordList[-7], posschars, 1)\n",
    "cuslamb = eval(lambs)\n",
    "results = list(filter(cuslamb, reduced_eng))\n",
    "print(f\"{len(results)} results\")\n",
    "results"
   ]
  },
  {
   "cell_type": "code",
   "execution_count": 2013,
   "metadata": {},
   "outputs": [],
   "source": [
    "# runon(wordList[8])"
   ]
  },
  {
   "cell_type": "code",
   "execution_count": 2014,
   "metadata": {},
   "outputs": [],
   "source": [
    "# posschars"
   ]
  },
  {
   "cell_type": "code",
   "execution_count": 2015,
   "metadata": {},
   "outputs": [
    {
     "output_type": "execute_result",
     "data": {
      "text/plain": [
       "['eeoc', 'ooze']"
      ]
     },
     "metadata": {},
     "execution_count": 2015
    }
   ],
   "source": [
    "list(filter(lambda x: (len(x) == 4) and (x[0] == x[1]), reduced_eng))"
   ]
  },
  {
   "cell_type": "code",
   "execution_count": 2016,
   "metadata": {},
   "outputs": [],
   "source": [
    "cardinal = ['one', 'two', 'three', 'four', 'five', 'six', 'seven', 'eight', 'nine', 'ten', 'eleven', 'twelve']"
   ]
  },
  {
   "cell_type": "code",
   "execution_count": 2017,
   "metadata": {},
   "outputs": [
    {
     "output_type": "execute_result",
     "data": {
      "text/plain": [
       "[]"
      ]
     },
     "metadata": {},
     "execution_count": 2017
    }
   ],
   "source": [
    "list(filter(lambda x: (len(x) == 9), ordinals))"
   ]
  },
  {
   "cell_type": "code",
   "execution_count": 2018,
   "metadata": {},
   "outputs": [
    {
     "output_type": "execute_result",
     "data": {
      "text/plain": [
       "10"
      ]
     },
     "metadata": {},
     "execution_count": 2018
    }
   ],
   "source": [
    "len([20, 22, 19, 5, 18, 10, 19, 19, 13, 20])"
   ]
  },
  {
   "cell_type": "code",
   "execution_count": 2019,
   "metadata": {},
   "outputs": [],
   "source": [
    "ordinals = ['first', 'second', 'third', 'fourth', 'fifth', 'thirteenth']"
   ]
  },
  {
   "cell_type": "code",
   "execution_count": 2020,
   "metadata": {},
   "outputs": [
    {
     "output_type": "execute_result",
     "data": {
      "text/plain": [
       "7"
      ]
     },
     "metadata": {},
     "execution_count": 2020
    }
   ],
   "source": [
    "len('Twelfth')"
   ]
  },
  {
   "cell_type": "code",
   "execution_count": 2021,
   "metadata": {},
   "outputs": [],
   "source": [
    "# list(filter(lambda x: (len(x) == 9), reduced_eng))"
   ]
  },
  {
   "cell_type": "code",
   "execution_count": 2022,
   "metadata": {},
   "outputs": [
    {
     "output_type": "execute_result",
     "data": {
      "text/plain": [
       "['eeoc', 'ooze']"
      ]
     },
     "metadata": {},
     "execution_count": 2022
    }
   ],
   "source": [
    "list(filter(lambda x: (len(x) == 4) and (x[0] == x[1]), reduced_eng))"
   ]
  }
 ]
}